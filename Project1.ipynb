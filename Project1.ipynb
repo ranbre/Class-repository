{
 "cells": [
  {
   "cell_type": "code",
   "execution_count": 59,
   "metadata": {},
   "outputs": [],
   "source": [
    "import pandas as pd #import pandas library"
   ]
  },
  {
   "cell_type": "code",
   "execution_count": 60,
   "metadata": {},
   "outputs": [],
   "source": [
    "data = pd.read_csv(\"household-living-costs-price-indexes-june-2020-quarter-expenditure-weights.csv\")"
   ]
  },
  {
   "cell_type": "code",
   "execution_count": 61,
   "metadata": {},
   "outputs": [],
   "source": [
    "df = pd.DataFrame(data) #create dataframe"
   ]
  },
  {
   "cell_type": "code",
   "execution_count": 62,
   "metadata": {},
   "outputs": [
    {
     "name": "stdout",
     "output_type": "stream",
     "text": [
      "           hlpi_name  year   hlpi    nzhec  \\\n",
      "0     All households  2008  allhh        1   \n",
      "1     All households  2008  allhh      1.1   \n",
      "2     All households  2008  allhh      1.2   \n",
      "3     All households  2008  allhh      1.3   \n",
      "4     All households  2008  allhh      1.4   \n",
      "...              ...   ...    ...      ...   \n",
      "3355  Superannuitant  2017  super     13.1   \n",
      "3356  Superannuitant  2017  super  04.1.01   \n",
      "3357  Superannuitant  2017  super  04.4.03   \n",
      "3358  Superannuitant  2017  super  04.5.01   \n",
      "3359  Superannuitant  2017  super  07.2.02   \n",
      "\n",
      "                              nzhec_name            nzhec_short     level  \\\n",
      "0                                   Food                   Food     group   \n",
      "1                   Fruit and vegetables            Fruit & veg  subgroup   \n",
      "2                 Meat, poultry and fish                   Meat  subgroup   \n",
      "3                           Grocery food           Grocery food  subgroup   \n",
      "4                Non-alcoholic beverages            Soft drinks  subgroup   \n",
      "...                                  ...                    ...       ...   \n",
      "3355                   Interest payments               Interest  subgroup   \n",
      "3356          Actual rentals for housing                   Rent     class   \n",
      "3357  Local authority rates and payments  Local authority rates     class   \n",
      "3358                         Electricity            Electricity     class   \n",
      "3359                              Petrol                 Petrol     class   \n",
      "\n",
      "      nzhec1                      nzhec1_name nzhec1_short  weight  exp_pw  \\\n",
      "0          1                             Food         Food    18.0   146.3   \n",
      "1          1                             Food         Food     2.6    21.3   \n",
      "2          1                             Food         Food     3.1    25.6   \n",
      "3          1                             Food         Food     7.4    59.9   \n",
      "4          1                             Food         Food     1.7    14.0   \n",
      "...      ...                              ...          ...     ...     ...   \n",
      "3355      13                Other expenditure     Interest     1.2     7.2   \n",
      "3356       4  Housing and household utilities      Housing     5.1    29.9   \n",
      "3357       4  Housing and household utilities      Housing     7.6    44.7   \n",
      "3358       4  Housing and household utilities      Housing     6.7    39.0   \n",
      "3359       7                        Transport    Transport     3.7    21.9   \n",
      "\n",
      "      eqv_exp_pw  \n",
      "0           86.7  \n",
      "1           12.6  \n",
      "2           15.2  \n",
      "3           35.5  \n",
      "4            8.3  \n",
      "...          ...  \n",
      "3355         5.7  \n",
      "3356        23.5  \n",
      "3357        35.1  \n",
      "3358        30.6  \n",
      "3359        17.2  \n",
      "\n",
      "[3360 rows x 13 columns]\n"
     ]
    }
   ],
   "source": [
    "print(df)"
   ]
  },
  {
   "cell_type": "code",
   "execution_count": 63,
   "metadata": {},
   "outputs": [
    {
     "data": {
      "text/plain": [
       "hlpi_name        object\n",
       "year              int64\n",
       "hlpi             object\n",
       "nzhec            object\n",
       "nzhec_name       object\n",
       "nzhec_short      object\n",
       "level            object\n",
       "nzhec1            int64\n",
       "nzhec1_name      object\n",
       "nzhec1_short     object\n",
       "weight          float64\n",
       "exp_pw          float64\n",
       "eqv_exp_pw      float64\n",
       "dtype: object"
      ]
     },
     "execution_count": 63,
     "metadata": {},
     "output_type": "execute_result"
    }
   ],
   "source": [
    "df.dtypes #display quantitative and categorical data types"
   ]
  },
  {
   "cell_type": "code",
   "execution_count": 64,
   "metadata": {},
   "outputs": [],
   "source": [
    "df['hlpi'] = pd.to_numeric(df['hlpi'], errors = 'coerce') #chang \"hlpi\" column to numeric"
   ]
  },
  {
   "cell_type": "code",
   "execution_count": 65,
   "metadata": {},
   "outputs": [
    {
     "data": {
      "text/plain": [
       "hlpi_name        object\n",
       "year              int64\n",
       "hlpi            float64\n",
       "nzhec            object\n",
       "nzhec_name       object\n",
       "nzhec_short      object\n",
       "level            object\n",
       "nzhec1            int64\n",
       "nzhec1_name      object\n",
       "nzhec1_short     object\n",
       "weight          float64\n",
       "exp_pw          float64\n",
       "eqv_exp_pw      float64\n",
       "dtype: object"
      ]
     },
     "execution_count": 65,
     "metadata": {},
     "output_type": "execute_result"
    }
   ],
   "source": [
    "df.dtypes #show transformation worked > this resulted in NaN throught the rest of the demonstration in column 'hlpi'"
   ]
  },
  {
   "cell_type": "code",
   "execution_count": 66,
   "metadata": {},
   "outputs": [
    {
     "data": {
      "text/html": [
       "<div>\n",
       "<style scoped>\n",
       "    .dataframe tbody tr th:only-of-type {\n",
       "        vertical-align: middle;\n",
       "    }\n",
       "\n",
       "    .dataframe tbody tr th {\n",
       "        vertical-align: top;\n",
       "    }\n",
       "\n",
       "    .dataframe thead th {\n",
       "        text-align: right;\n",
       "    }\n",
       "</style>\n",
       "<table border=\"1\" class=\"dataframe\">\n",
       "  <thead>\n",
       "    <tr style=\"text-align: right;\">\n",
       "      <th></th>\n",
       "      <th>year</th>\n",
       "      <th>hlpi</th>\n",
       "      <th>nzhec1</th>\n",
       "      <th>weight</th>\n",
       "      <th>exp_pw</th>\n",
       "      <th>eqv_exp_pw</th>\n",
       "    </tr>\n",
       "  </thead>\n",
       "  <tbody>\n",
       "    <tr>\n",
       "      <th>count</th>\n",
       "      <td>3360.000000</td>\n",
       "      <td>0.0</td>\n",
       "      <td>3360.000000</td>\n",
       "      <td>3360.000000</td>\n",
       "      <td>3360.000000</td>\n",
       "      <td>3360.000000</td>\n",
       "    </tr>\n",
       "    <tr>\n",
       "      <th>mean</th>\n",
       "      <td>2012.500000</td>\n",
       "      <td>NaN</td>\n",
       "      <td>6.400000</td>\n",
       "      <td>3.750893</td>\n",
       "      <td>33.569732</td>\n",
       "      <td>20.176220</td>\n",
       "    </tr>\n",
       "    <tr>\n",
       "      <th>std</th>\n",
       "      <td>3.354601</td>\n",
       "      <td>NaN</td>\n",
       "      <td>3.333163</td>\n",
       "      <td>4.812609</td>\n",
       "      <td>44.802895</td>\n",
       "      <td>26.485688</td>\n",
       "    </tr>\n",
       "    <tr>\n",
       "      <th>min</th>\n",
       "      <td>2008.000000</td>\n",
       "      <td>NaN</td>\n",
       "      <td>1.000000</td>\n",
       "      <td>0.000000</td>\n",
       "      <td>0.000000</td>\n",
       "      <td>0.000000</td>\n",
       "    </tr>\n",
       "    <tr>\n",
       "      <th>25%</th>\n",
       "      <td>2010.250000</td>\n",
       "      <td>NaN</td>\n",
       "      <td>4.000000</td>\n",
       "      <td>0.700000</td>\n",
       "      <td>5.500000</td>\n",
       "      <td>3.400000</td>\n",
       "    </tr>\n",
       "    <tr>\n",
       "      <th>50%</th>\n",
       "      <td>2012.500000</td>\n",
       "      <td>NaN</td>\n",
       "      <td>6.000000</td>\n",
       "      <td>2.300000</td>\n",
       "      <td>18.100000</td>\n",
       "      <td>11.000000</td>\n",
       "    </tr>\n",
       "    <tr>\n",
       "      <th>75%</th>\n",
       "      <td>2014.750000</td>\n",
       "      <td>NaN</td>\n",
       "      <td>9.000000</td>\n",
       "      <td>4.625000</td>\n",
       "      <td>41.400000</td>\n",
       "      <td>25.300000</td>\n",
       "    </tr>\n",
       "    <tr>\n",
       "      <th>max</th>\n",
       "      <td>2017.000000</td>\n",
       "      <td>NaN</td>\n",
       "      <td>13.000000</td>\n",
       "      <td>43.500000</td>\n",
       "      <td>367.200000</td>\n",
       "      <td>214.700000</td>\n",
       "    </tr>\n",
       "  </tbody>\n",
       "</table>\n",
       "</div>"
      ],
      "text/plain": [
       "              year  hlpi       nzhec1       weight       exp_pw   eqv_exp_pw\n",
       "count  3360.000000   0.0  3360.000000  3360.000000  3360.000000  3360.000000\n",
       "mean   2012.500000   NaN     6.400000     3.750893    33.569732    20.176220\n",
       "std       3.354601   NaN     3.333163     4.812609    44.802895    26.485688\n",
       "min    2008.000000   NaN     1.000000     0.000000     0.000000     0.000000\n",
       "25%    2010.250000   NaN     4.000000     0.700000     5.500000     3.400000\n",
       "50%    2012.500000   NaN     6.000000     2.300000    18.100000    11.000000\n",
       "75%    2014.750000   NaN     9.000000     4.625000    41.400000    25.300000\n",
       "max    2017.000000   NaN    13.000000    43.500000   367.200000   214.700000"
      ]
     },
     "execution_count": 66,
     "metadata": {},
     "output_type": "execute_result"
    }
   ],
   "source": [
    "df.describe() #add descriptive statistics for data"
   ]
  },
  {
   "cell_type": "code",
   "execution_count": 67,
   "metadata": {},
   "outputs": [
    {
     "data": {
      "text/html": [
       "<div>\n",
       "<style scoped>\n",
       "    .dataframe tbody tr th:only-of-type {\n",
       "        vertical-align: middle;\n",
       "    }\n",
       "\n",
       "    .dataframe tbody tr th {\n",
       "        vertical-align: top;\n",
       "    }\n",
       "\n",
       "    .dataframe thead th {\n",
       "        text-align: right;\n",
       "    }\n",
       "</style>\n",
       "<table border=\"1\" class=\"dataframe\">\n",
       "  <thead>\n",
       "    <tr style=\"text-align: right;\">\n",
       "      <th></th>\n",
       "      <th>hlpi_name</th>\n",
       "      <th>nzhec</th>\n",
       "      <th>nzhec_name</th>\n",
       "      <th>nzhec_short</th>\n",
       "      <th>level</th>\n",
       "      <th>nzhec1_name</th>\n",
       "      <th>nzhec1_short</th>\n",
       "    </tr>\n",
       "  </thead>\n",
       "  <tbody>\n",
       "    <tr>\n",
       "      <th>count</th>\n",
       "      <td>3360</td>\n",
       "      <td>3360</td>\n",
       "      <td>3360</td>\n",
       "      <td>3360</td>\n",
       "      <td>3360</td>\n",
       "      <td>3360</td>\n",
       "      <td>3360</td>\n",
       "    </tr>\n",
       "    <tr>\n",
       "      <th>unique</th>\n",
       "      <td>14</td>\n",
       "      <td>60</td>\n",
       "      <td>59</td>\n",
       "      <td>58</td>\n",
       "      <td>3</td>\n",
       "      <td>12</td>\n",
       "      <td>12</td>\n",
       "    </tr>\n",
       "    <tr>\n",
       "      <th>top</th>\n",
       "      <td>Income quintile 5 (high)</td>\n",
       "      <td>9.3</td>\n",
       "      <td>Actual rentals for housing</td>\n",
       "      <td>Rent</td>\n",
       "      <td>subgroup</td>\n",
       "      <td>Housing and household utilities</td>\n",
       "      <td>Housing</td>\n",
       "    </tr>\n",
       "    <tr>\n",
       "      <th>freq</th>\n",
       "      <td>240</td>\n",
       "      <td>56</td>\n",
       "      <td>112</td>\n",
       "      <td>112</td>\n",
       "      <td>2464</td>\n",
       "      <td>448</td>\n",
       "      <td>448</td>\n",
       "    </tr>\n",
       "  </tbody>\n",
       "</table>\n",
       "</div>"
      ],
      "text/plain": [
       "                       hlpi_name nzhec                  nzhec_name  \\\n",
       "count                       3360  3360                        3360   \n",
       "unique                        14    60                          59   \n",
       "top     Income quintile 5 (high)   9.3  Actual rentals for housing   \n",
       "freq                         240    56                         112   \n",
       "\n",
       "       nzhec_short     level                      nzhec1_name nzhec1_short  \n",
       "count         3360      3360                             3360         3360  \n",
       "unique          58         3                               12           12  \n",
       "top           Rent  subgroup  Housing and household utilities      Housing  \n",
       "freq           112      2464                              448          448  "
      ]
     },
     "execution_count": 67,
     "metadata": {},
     "output_type": "execute_result"
    }
   ],
   "source": [
    "df.describe(include=['object']) #more descriptive statistics "
   ]
  },
  {
   "cell_type": "code",
   "execution_count": 68,
   "metadata": {},
   "outputs": [
    {
     "data": {
      "text/html": [
       "<div>\n",
       "<style scoped>\n",
       "    .dataframe tbody tr th:only-of-type {\n",
       "        vertical-align: middle;\n",
       "    }\n",
       "\n",
       "    .dataframe tbody tr th {\n",
       "        vertical-align: top;\n",
       "    }\n",
       "\n",
       "    .dataframe thead th {\n",
       "        text-align: right;\n",
       "    }\n",
       "</style>\n",
       "<table border=\"1\" class=\"dataframe\">\n",
       "  <thead>\n",
       "    <tr style=\"text-align: right;\">\n",
       "      <th></th>\n",
       "      <th>hlpi_name</th>\n",
       "      <th>year</th>\n",
       "      <th>hlpi</th>\n",
       "      <th>nzhec</th>\n",
       "      <th>nzhec_name</th>\n",
       "      <th>nzhec_short</th>\n",
       "      <th>level</th>\n",
       "      <th>nzhec1</th>\n",
       "      <th>nzhec1_name</th>\n",
       "      <th>nzhec1_short</th>\n",
       "      <th>weight</th>\n",
       "      <th>exp_pw</th>\n",
       "      <th>eqv_exp_pw</th>\n",
       "    </tr>\n",
       "  </thead>\n",
       "  <tbody>\n",
       "    <tr>\n",
       "      <th>count</th>\n",
       "      <td>3360</td>\n",
       "      <td>3360.000000</td>\n",
       "      <td>0.0</td>\n",
       "      <td>3360</td>\n",
       "      <td>3360</td>\n",
       "      <td>3360</td>\n",
       "      <td>3360</td>\n",
       "      <td>3360.000000</td>\n",
       "      <td>3360</td>\n",
       "      <td>3360</td>\n",
       "      <td>3360.000000</td>\n",
       "      <td>3360.000000</td>\n",
       "      <td>3360.000000</td>\n",
       "    </tr>\n",
       "    <tr>\n",
       "      <th>unique</th>\n",
       "      <td>14</td>\n",
       "      <td>NaN</td>\n",
       "      <td>NaN</td>\n",
       "      <td>60</td>\n",
       "      <td>59</td>\n",
       "      <td>58</td>\n",
       "      <td>3</td>\n",
       "      <td>NaN</td>\n",
       "      <td>12</td>\n",
       "      <td>12</td>\n",
       "      <td>NaN</td>\n",
       "      <td>NaN</td>\n",
       "      <td>NaN</td>\n",
       "    </tr>\n",
       "    <tr>\n",
       "      <th>top</th>\n",
       "      <td>Income quintile 5 (high)</td>\n",
       "      <td>NaN</td>\n",
       "      <td>NaN</td>\n",
       "      <td>9.3</td>\n",
       "      <td>Actual rentals for housing</td>\n",
       "      <td>Rent</td>\n",
       "      <td>subgroup</td>\n",
       "      <td>NaN</td>\n",
       "      <td>Housing and household utilities</td>\n",
       "      <td>Housing</td>\n",
       "      <td>NaN</td>\n",
       "      <td>NaN</td>\n",
       "      <td>NaN</td>\n",
       "    </tr>\n",
       "    <tr>\n",
       "      <th>freq</th>\n",
       "      <td>240</td>\n",
       "      <td>NaN</td>\n",
       "      <td>NaN</td>\n",
       "      <td>56</td>\n",
       "      <td>112</td>\n",
       "      <td>112</td>\n",
       "      <td>2464</td>\n",
       "      <td>NaN</td>\n",
       "      <td>448</td>\n",
       "      <td>448</td>\n",
       "      <td>NaN</td>\n",
       "      <td>NaN</td>\n",
       "      <td>NaN</td>\n",
       "    </tr>\n",
       "    <tr>\n",
       "      <th>mean</th>\n",
       "      <td>NaN</td>\n",
       "      <td>2012.500000</td>\n",
       "      <td>NaN</td>\n",
       "      <td>NaN</td>\n",
       "      <td>NaN</td>\n",
       "      <td>NaN</td>\n",
       "      <td>NaN</td>\n",
       "      <td>6.400000</td>\n",
       "      <td>NaN</td>\n",
       "      <td>NaN</td>\n",
       "      <td>3.750893</td>\n",
       "      <td>33.569732</td>\n",
       "      <td>20.176220</td>\n",
       "    </tr>\n",
       "    <tr>\n",
       "      <th>std</th>\n",
       "      <td>NaN</td>\n",
       "      <td>3.354601</td>\n",
       "      <td>NaN</td>\n",
       "      <td>NaN</td>\n",
       "      <td>NaN</td>\n",
       "      <td>NaN</td>\n",
       "      <td>NaN</td>\n",
       "      <td>3.333163</td>\n",
       "      <td>NaN</td>\n",
       "      <td>NaN</td>\n",
       "      <td>4.812609</td>\n",
       "      <td>44.802895</td>\n",
       "      <td>26.485688</td>\n",
       "    </tr>\n",
       "    <tr>\n",
       "      <th>min</th>\n",
       "      <td>NaN</td>\n",
       "      <td>2008.000000</td>\n",
       "      <td>NaN</td>\n",
       "      <td>NaN</td>\n",
       "      <td>NaN</td>\n",
       "      <td>NaN</td>\n",
       "      <td>NaN</td>\n",
       "      <td>1.000000</td>\n",
       "      <td>NaN</td>\n",
       "      <td>NaN</td>\n",
       "      <td>0.000000</td>\n",
       "      <td>0.000000</td>\n",
       "      <td>0.000000</td>\n",
       "    </tr>\n",
       "    <tr>\n",
       "      <th>25%</th>\n",
       "      <td>NaN</td>\n",
       "      <td>2010.250000</td>\n",
       "      <td>NaN</td>\n",
       "      <td>NaN</td>\n",
       "      <td>NaN</td>\n",
       "      <td>NaN</td>\n",
       "      <td>NaN</td>\n",
       "      <td>4.000000</td>\n",
       "      <td>NaN</td>\n",
       "      <td>NaN</td>\n",
       "      <td>0.700000</td>\n",
       "      <td>5.500000</td>\n",
       "      <td>3.400000</td>\n",
       "    </tr>\n",
       "    <tr>\n",
       "      <th>50%</th>\n",
       "      <td>NaN</td>\n",
       "      <td>2012.500000</td>\n",
       "      <td>NaN</td>\n",
       "      <td>NaN</td>\n",
       "      <td>NaN</td>\n",
       "      <td>NaN</td>\n",
       "      <td>NaN</td>\n",
       "      <td>6.000000</td>\n",
       "      <td>NaN</td>\n",
       "      <td>NaN</td>\n",
       "      <td>2.300000</td>\n",
       "      <td>18.100000</td>\n",
       "      <td>11.000000</td>\n",
       "    </tr>\n",
       "    <tr>\n",
       "      <th>75%</th>\n",
       "      <td>NaN</td>\n",
       "      <td>2014.750000</td>\n",
       "      <td>NaN</td>\n",
       "      <td>NaN</td>\n",
       "      <td>NaN</td>\n",
       "      <td>NaN</td>\n",
       "      <td>NaN</td>\n",
       "      <td>9.000000</td>\n",
       "      <td>NaN</td>\n",
       "      <td>NaN</td>\n",
       "      <td>4.625000</td>\n",
       "      <td>41.400000</td>\n",
       "      <td>25.300000</td>\n",
       "    </tr>\n",
       "    <tr>\n",
       "      <th>max</th>\n",
       "      <td>NaN</td>\n",
       "      <td>2017.000000</td>\n",
       "      <td>NaN</td>\n",
       "      <td>NaN</td>\n",
       "      <td>NaN</td>\n",
       "      <td>NaN</td>\n",
       "      <td>NaN</td>\n",
       "      <td>13.000000</td>\n",
       "      <td>NaN</td>\n",
       "      <td>NaN</td>\n",
       "      <td>43.500000</td>\n",
       "      <td>367.200000</td>\n",
       "      <td>214.700000</td>\n",
       "    </tr>\n",
       "  </tbody>\n",
       "</table>\n",
       "</div>"
      ],
      "text/plain": [
       "                       hlpi_name         year  hlpi nzhec  \\\n",
       "count                       3360  3360.000000   0.0  3360   \n",
       "unique                        14          NaN   NaN    60   \n",
       "top     Income quintile 5 (high)          NaN   NaN   9.3   \n",
       "freq                         240          NaN   NaN    56   \n",
       "mean                         NaN  2012.500000   NaN   NaN   \n",
       "std                          NaN     3.354601   NaN   NaN   \n",
       "min                          NaN  2008.000000   NaN   NaN   \n",
       "25%                          NaN  2010.250000   NaN   NaN   \n",
       "50%                          NaN  2012.500000   NaN   NaN   \n",
       "75%                          NaN  2014.750000   NaN   NaN   \n",
       "max                          NaN  2017.000000   NaN   NaN   \n",
       "\n",
       "                        nzhec_name nzhec_short     level       nzhec1  \\\n",
       "count                         3360        3360      3360  3360.000000   \n",
       "unique                          59          58         3          NaN   \n",
       "top     Actual rentals for housing        Rent  subgroup          NaN   \n",
       "freq                           112         112      2464          NaN   \n",
       "mean                           NaN         NaN       NaN     6.400000   \n",
       "std                            NaN         NaN       NaN     3.333163   \n",
       "min                            NaN         NaN       NaN     1.000000   \n",
       "25%                            NaN         NaN       NaN     4.000000   \n",
       "50%                            NaN         NaN       NaN     6.000000   \n",
       "75%                            NaN         NaN       NaN     9.000000   \n",
       "max                            NaN         NaN       NaN    13.000000   \n",
       "\n",
       "                            nzhec1_name nzhec1_short       weight  \\\n",
       "count                              3360         3360  3360.000000   \n",
       "unique                               12           12          NaN   \n",
       "top     Housing and household utilities      Housing          NaN   \n",
       "freq                                448          448          NaN   \n",
       "mean                                NaN          NaN     3.750893   \n",
       "std                                 NaN          NaN     4.812609   \n",
       "min                                 NaN          NaN     0.000000   \n",
       "25%                                 NaN          NaN     0.700000   \n",
       "50%                                 NaN          NaN     2.300000   \n",
       "75%                                 NaN          NaN     4.625000   \n",
       "max                                 NaN          NaN    43.500000   \n",
       "\n",
       "             exp_pw   eqv_exp_pw  \n",
       "count   3360.000000  3360.000000  \n",
       "unique          NaN          NaN  \n",
       "top             NaN          NaN  \n",
       "freq            NaN          NaN  \n",
       "mean      33.569732    20.176220  \n",
       "std       44.802895    26.485688  \n",
       "min        0.000000     0.000000  \n",
       "25%        5.500000     3.400000  \n",
       "50%       18.100000    11.000000  \n",
       "75%       41.400000    25.300000  \n",
       "max      367.200000   214.700000  "
      ]
     },
     "execution_count": 68,
     "metadata": {},
     "output_type": "execute_result"
    }
   ],
   "source": [
    "df.describe(include='all')"
   ]
  },
  {
   "cell_type": "code",
   "execution_count": 69,
   "metadata": {},
   "outputs": [],
   "source": [
    "df['year'] = df[\"year\"].transform(lambda x : x + 1) #transform variable \"year\" to adjust date one year later"
   ]
  },
  {
   "cell_type": "code",
   "execution_count": 70,
   "metadata": {},
   "outputs": [
    {
     "data": {
      "text/html": [
       "<div>\n",
       "<style scoped>\n",
       "    .dataframe tbody tr th:only-of-type {\n",
       "        vertical-align: middle;\n",
       "    }\n",
       "\n",
       "    .dataframe tbody tr th {\n",
       "        vertical-align: top;\n",
       "    }\n",
       "\n",
       "    .dataframe thead th {\n",
       "        text-align: right;\n",
       "    }\n",
       "</style>\n",
       "<table border=\"1\" class=\"dataframe\">\n",
       "  <thead>\n",
       "    <tr style=\"text-align: right;\">\n",
       "      <th></th>\n",
       "      <th>hlpi_name</th>\n",
       "      <th>year</th>\n",
       "      <th>hlpi</th>\n",
       "      <th>nzhec</th>\n",
       "      <th>nzhec_name</th>\n",
       "      <th>nzhec_short</th>\n",
       "      <th>level</th>\n",
       "      <th>nzhec1</th>\n",
       "      <th>nzhec1_name</th>\n",
       "      <th>nzhec1_short</th>\n",
       "      <th>weight</th>\n",
       "      <th>exp_pw</th>\n",
       "      <th>eqv_exp_pw</th>\n",
       "    </tr>\n",
       "  </thead>\n",
       "  <tbody>\n",
       "    <tr>\n",
       "      <th>0</th>\n",
       "      <td>All households</td>\n",
       "      <td>2009</td>\n",
       "      <td>NaN</td>\n",
       "      <td>1</td>\n",
       "      <td>Food</td>\n",
       "      <td>Food</td>\n",
       "      <td>group</td>\n",
       "      <td>1</td>\n",
       "      <td>Food</td>\n",
       "      <td>Food</td>\n",
       "      <td>18.0</td>\n",
       "      <td>146.3</td>\n",
       "      <td>86.7</td>\n",
       "    </tr>\n",
       "    <tr>\n",
       "      <th>1</th>\n",
       "      <td>All households</td>\n",
       "      <td>2009</td>\n",
       "      <td>NaN</td>\n",
       "      <td>1.1</td>\n",
       "      <td>Fruit and vegetables</td>\n",
       "      <td>Fruit &amp; veg</td>\n",
       "      <td>subgroup</td>\n",
       "      <td>1</td>\n",
       "      <td>Food</td>\n",
       "      <td>Food</td>\n",
       "      <td>2.6</td>\n",
       "      <td>21.3</td>\n",
       "      <td>12.6</td>\n",
       "    </tr>\n",
       "    <tr>\n",
       "      <th>2</th>\n",
       "      <td>All households</td>\n",
       "      <td>2009</td>\n",
       "      <td>NaN</td>\n",
       "      <td>1.2</td>\n",
       "      <td>Meat, poultry and fish</td>\n",
       "      <td>Meat</td>\n",
       "      <td>subgroup</td>\n",
       "      <td>1</td>\n",
       "      <td>Food</td>\n",
       "      <td>Food</td>\n",
       "      <td>3.1</td>\n",
       "      <td>25.6</td>\n",
       "      <td>15.2</td>\n",
       "    </tr>\n",
       "    <tr>\n",
       "      <th>3</th>\n",
       "      <td>All households</td>\n",
       "      <td>2009</td>\n",
       "      <td>NaN</td>\n",
       "      <td>1.3</td>\n",
       "      <td>Grocery food</td>\n",
       "      <td>Grocery food</td>\n",
       "      <td>subgroup</td>\n",
       "      <td>1</td>\n",
       "      <td>Food</td>\n",
       "      <td>Food</td>\n",
       "      <td>7.4</td>\n",
       "      <td>59.9</td>\n",
       "      <td>35.5</td>\n",
       "    </tr>\n",
       "    <tr>\n",
       "      <th>4</th>\n",
       "      <td>All households</td>\n",
       "      <td>2009</td>\n",
       "      <td>NaN</td>\n",
       "      <td>1.4</td>\n",
       "      <td>Non-alcoholic beverages</td>\n",
       "      <td>Soft drinks</td>\n",
       "      <td>subgroup</td>\n",
       "      <td>1</td>\n",
       "      <td>Food</td>\n",
       "      <td>Food</td>\n",
       "      <td>1.7</td>\n",
       "      <td>14.0</td>\n",
       "      <td>8.3</td>\n",
       "    </tr>\n",
       "  </tbody>\n",
       "</table>\n",
       "</div>"
      ],
      "text/plain": [
       "        hlpi_name  year  hlpi nzhec               nzhec_name   nzhec_short  \\\n",
       "0  All households  2009   NaN     1                     Food          Food   \n",
       "1  All households  2009   NaN   1.1     Fruit and vegetables   Fruit & veg   \n",
       "2  All households  2009   NaN   1.2   Meat, poultry and fish          Meat   \n",
       "3  All households  2009   NaN   1.3             Grocery food  Grocery food   \n",
       "4  All households  2009   NaN   1.4  Non-alcoholic beverages   Soft drinks   \n",
       "\n",
       "      level  nzhec1 nzhec1_name nzhec1_short  weight  exp_pw  eqv_exp_pw  \n",
       "0     group       1        Food         Food    18.0   146.3        86.7  \n",
       "1  subgroup       1        Food         Food     2.6    21.3        12.6  \n",
       "2  subgroup       1        Food         Food     3.1    25.6        15.2  \n",
       "3  subgroup       1        Food         Food     7.4    59.9        35.5  \n",
       "4  subgroup       1        Food         Food     1.7    14.0         8.3  "
      ]
     },
     "execution_count": 70,
     "metadata": {},
     "output_type": "execute_result"
    }
   ],
   "source": [
    "data.head() #print data with headers"
   ]
  },
  {
   "cell_type": "code",
   "execution_count": 71,
   "metadata": {},
   "outputs": [],
   "source": [
    "import matplotlib as ml #import stat library matplotlib"
   ]
  },
  {
   "cell_type": "code",
   "execution_count": 72,
   "metadata": {},
   "outputs": [],
   "source": [
    "import seaborn as sb #import data visualization library"
   ]
  },
  {
   "cell_type": "code",
   "execution_count": 73,
   "metadata": {},
   "outputs": [],
   "source": [
    "df = df.rename(columns={'nzhec1_name': 'Category'}) #rename column for to \"Category\" so label reflects a more accurate name."
   ]
  },
  {
   "cell_type": "code",
   "execution_count": 74,
   "metadata": {},
   "outputs": [
    {
     "data": {
      "text/plain": [
       "<seaborn.axisgrid.FacetGrid at 0x119fac5d0>"
      ]
     },
     "execution_count": 74,
     "metadata": {},
     "output_type": "execute_result"
    },
    {
     "data": {
      "image/png": "[encoded data removed]",
      "text/plain": [
       "<Figure size 360x360 with 1 Axes>"
      ]
     },
     "metadata": {
      "needs_background": "light"
     },
     "output_type": "display_data"
    }
   ],
   "source": [
    "sb.catplot(x='weight', y= 'Category', data = df) #plot data with new name \"Category\""
   ]
  },
  {
   "cell_type": "code",
   "execution_count": 75,
   "metadata": {},
   "outputs": [
    {
     "data": {
      "text/plain": [
       "<seaborn.axisgrid.FacetGrid at 0x119dcf910>"
      ]
     },
     "execution_count": 75,
     "metadata": {},
     "output_type": "execute_result"
    },
    {
     "data": {
      "image/png": "[encoded data removed]",
      "text/plain": [
       "<Figure size 433.625x360 with 1 Axes>"
      ]
     },
     "metadata": {
      "needs_background": "light"
     },
     "output_type": "display_data"
    }
   ],
   "source": [
    "sb.relplot(data = data, x='weight', y='year', size ='exp_pw')"
   ]
  },
  {
   "cell_type": "code",
   "execution_count": 76,
   "metadata": {},
   "outputs": [
    {
     "data": {
      "text/plain": [
       "<matplotlib.axes._subplots.AxesSubplot at 0x1a1ec9c5d0>"
      ]
     },
     "execution_count": 76,
     "metadata": {},
     "output_type": "execute_result"
    },
    {
     "data": {
      "image/png": "[encoded data removed]",
      "text/plain": [
       "<Figure size 432x288 with 1 Axes>"
      ]
     },
     "metadata": {
      "needs_background": "light"
     },
     "output_type": "display_data"
    }
   ],
   "source": [
    "df.groupby('year')['weight'].sum().plot(kind='bar') #create bar chart"
   ]
  },
  {
   "cell_type": "code",
   "execution_count": 77,
   "metadata": {},
   "outputs": [
    {
     "data": {
      "text/plain": [
       "<matplotlib.axes._subplots.AxesSubplot at 0x1a1ec9cf10>"
      ]
     },
     "execution_count": 77,
     "metadata": {},
     "output_type": "execute_result"
    },
    {
     "data": {
      "image/png": "[encoded data removed]",
      "text/plain": [
       "<Figure size 432x288 with 1 Axes>"
      ]
     },
     "metadata": {
      "needs_background": "light"
     },
     "output_type": "display_data"
    }
   ],
   "source": [
    "data.plot.scatter(x= 'eqv_exp_pw',\n",
    "                 y= 'year')"
   ]
  },
  {
   "cell_type": "code",
   "execution_count": null,
   "metadata": {},
   "outputs": [],
   "source": []
  }
 ],
 "metadata": {
  "kernelspec": {
   "display_name": "Python 3",
   "language": "python",
   "name": "python3"
  },
  "language_info": {
   "codemirror_mode": {
    "name": "ipython",
    "version": 3
   },
   "file_extension": ".py",
   "mimetype": "text/x-python",
   "name": "python",
   "nbconvert_exporter": "python",
   "pygments_lexer": "ipython3",
   "version": "3.7.6"
  }
 },
 "nbformat": 4,
 "nbformat_minor": 4
}
