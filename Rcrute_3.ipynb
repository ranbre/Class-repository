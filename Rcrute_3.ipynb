{
 "cells": [
  {
   "cell_type": "code",
   "execution_count": 232,
   "metadata": {},
   "outputs": [],
   "source": [
    "import pandas as pd\n",
    "import numpy as np\n",
    "\n",
    "from sklearn.naive_bayes import MultinomialNB, CategoricalNB\n",
    "from sklearn.feature_extraction.text import CountVectorizer\n",
    "from sklearn.model_selection import train_test_split\n",
    "from sklearn import metrics\n",
    "from sklearn.metrics import accuracy_score\n",
    "from sklearn.compose import ColumnTransformer\n",
    "from sklearn.metrics import confusion_matrix\n",
    "import matplotlib.pyplot as plt"
   ]
  },
  {
   "cell_type": "code",
   "execution_count": 178,
   "metadata": {},
   "outputs": [],
   "source": [
    "data = pd.read_csv(\"FlightDelays.csv\") #Read CSV"
   ]
  },
  {
   "cell_type": "code",
   "execution_count": 179,
   "metadata": {},
   "outputs": [
    {
     "name": "stdout",
     "output_type": "stream",
     "text": [
      "      CRS_DEP_TIME CARRIER  DEP_TIME DEST  DISTANCE     FL_DATE  FL_NUM  \\\n",
      "0             1455      OH      1455  JFK       184  01/01/2004    5935   \n",
      "1             1640      DH      1640  JFK       213  01/01/2004    6155   \n",
      "2             1245      DH      1245  LGA       229  01/01/2004    7208   \n",
      "3             1715      DH      1709  LGA       229  01/01/2004    7215   \n",
      "4             1039      DH      1035  LGA       229  01/01/2004    7792   \n",
      "...            ...     ...       ...  ...       ...         ...     ...   \n",
      "2196           645      RU       644  EWR       199   1/31/2004    2761   \n",
      "2197          1700      RU      1653  EWR       213   1/31/2004    2497   \n",
      "2198          1600      RU      1558  EWR       199   1/31/2004    2361   \n",
      "2199          1359      RU      1403  EWR       199   1/31/2004    2216   \n",
      "2200          1730      RU      1736  EWR       199   1/31/2004    2097   \n",
      "\n",
      "     ORIGIN  Weather  DAY_WEEK  DAY_OF_MONTH TAIL_NUM Flight Status  \n",
      "0       BWI        0         4             1   N940CA        ontime  \n",
      "1       DCA        0         4             1   N405FJ        ontime  \n",
      "2       IAD        0         4             1   N695BR        ontime  \n",
      "3       IAD        0         4             1   N662BR        ontime  \n",
      "4       IAD        0         4             1   N698BR        ontime  \n",
      "...     ...      ...       ...           ...      ...           ...  \n",
      "2196    DCA        0         6            31   N15555        ontime  \n",
      "2197    IAD        0         6            31   N16976        ontime  \n",
      "2198    DCA        0         6            31   N14902        ontime  \n",
      "2199    DCA        0         6            31   N16961        ontime  \n",
      "2200    DCA        0         6            31   N13994        ontime  \n",
      "\n",
      "[2201 rows x 13 columns]\n"
     ]
    }
   ],
   "source": [
    "print(data) #Show data for later choosing airport cities etc."
   ]
  },
  {
   "cell_type": "code",
   "execution_count": 176,
   "metadata": {},
   "outputs": [
    {
     "data": {
      "text/plain": [
       "CRS_DEP_TIME      int64\n",
       "CARRIER           int64\n",
       "DEP_TIME          int64\n",
       "DEST              int64\n",
       "DISTANCE          int64\n",
       "FL_DATE          object\n",
       "FL_NUM            int64\n",
       "ORIGIN            int64\n",
       "Weather           int64\n",
       "DAY_WEEK          int64\n",
       "DAY_OF_MONTH      int64\n",
       "TAIL_NUM          int64\n",
       "Flight Status     int64\n",
       "dtype: object"
      ]
     },
     "execution_count": 176,
     "metadata": {},
     "output_type": "execute_result"
    }
   ],
   "source": [
    "data.dtypes"
   ]
  },
  {
   "cell_type": "code",
   "execution_count": 113,
   "metadata": {},
   "outputs": [],
   "source": [
    "X = data.drop(columns=['CRS_DEP_TIME', 'DEP_TIME', 'FL_DATE', 'DEP_TIME']) #setting X, y variables for algorithm. \n",
    "y = data['Flight Status'].values #set to categorical variables "
   ]
  },
  {
   "cell_type": "code",
   "execution_count": 145,
   "metadata": {},
   "outputs": [],
   "source": [
    "X_train, X_test, y_train, y_test = train_test_split(X,y, test_size=.4, shuffle=True) #Divide data into 40% validation"
   ]
  },
  {
   "cell_type": "code",
   "execution_count": 146,
   "metadata": {},
   "outputs": [
    {
     "data": {
      "text/plain": [
       "array([[1, 0, 0, 0, 0, 0, 0, 0, 0, 0, 0],\n",
       "       [0, 0, 0, 1, 0, 0, 0, 0, 0, 0, 0],\n",
       "       [0, 0, 0, 0, 1, 0, 0, 0, 0, 0, 0],\n",
       "       [0, 0, 0, 0, 0, 1, 0, 0, 0, 0, 0],\n",
       "       [0, 0, 0, 0, 0, 0, 0, 1, 0, 0, 0],\n",
       "       [0, 0, 0, 0, 0, 0, 0, 0, 0, 0, 1],\n",
       "       [0, 0, 1, 0, 0, 0, 0, 0, 0, 0, 0],\n",
       "       [0, 1, 0, 0, 0, 0, 0, 0, 0, 0, 0],\n",
       "       [0, 0, 0, 0, 0, 0, 0, 0, 0, 1, 0],\n",
       "       [0, 0, 0, 0, 0, 0, 1, 0, 1, 0, 0]])"
      ]
     },
     "execution_count": 146,
     "metadata": {},
     "output_type": "execute_result"
    }
   ],
   "source": [
    "V = CountVectorizer() #vectorizing data for MultinomialNB algorithm. Turning data from words to numeric output \n",
    "X_train_v = V.fit_transform(data.drop(columns=['CRS_DEP_TIME', 'DEP_TIME', 'FL_DATE', 'DEP_TIME']))\n",
    "X_train_v.toarray()[:10]"
   ]
  },
  {
   "cell_type": "code",
   "execution_count": 147,
   "metadata": {},
   "outputs": [],
   "source": [
    "MNB = MultinomialNB() #calling MultinomialNB"
   ]
  },
  {
   "cell_type": "code",
   "execution_count": 148,
   "metadata": {},
   "outputs": [
    {
     "data": {
      "text/plain": [
       "MultinomialNB()"
      ]
     },
     "execution_count": 148,
     "metadata": {},
     "output_type": "execute_result"
    }
   ],
   "source": [
    "MNB.fit(X_train, y_train) #train model to array data"
   ]
  },
  {
   "cell_type": "code",
   "execution_count": 223,
   "metadata": {},
   "outputs": [],
   "source": [
    "pred = MNB.predict(X_test)"
   ]
  },
  {
   "cell_type": "code",
   "execution_count": 227,
   "metadata": {},
   "outputs": [
    {
     "data": {
      "text/plain": [
       "0.8365493757094211"
      ]
     },
     "execution_count": 227,
     "metadata": {},
     "output_type": "execute_result"
    }
   ],
   "source": [
    "metrics.accuracy_score(y_test, pred) #accuracy score of model"
   ]
  },
  {
   "cell_type": "code",
   "execution_count": 160,
   "metadata": {},
   "outputs": [
    {
     "name": "stdout",
     "output_type": "stream",
     "text": [
      "[[ 95  64]\n",
      " [ 80 642]]\n"
     ]
    }
   ],
   "source": [
    "print(confusion_matrix(y_test, pred)) #confusion matrix of test results"
   ]
  },
  {
   "cell_type": "code",
   "execution_count": 165,
   "metadata": {},
   "outputs": [],
   "source": [
    "prob = MNB.predict_proba(X_test) #setting variables for ROC chart\n",
    "predx = prob[:,1]"
   ]
  },
  {
   "cell_type": "code",
   "execution_count": 166,
   "metadata": {},
   "outputs": [],
   "source": [
    "fpr, tpr, threshold = metrics.roc_curve(y_test, predx) #continuing to build on formula for chart\n",
    "ra = metrics.auc(fpr, tpr)"
   ]
  },
  {
   "cell_type": "code",
   "execution_count": 170,
   "metadata": {},
   "outputs": [
    {
     "data": {
      "image/png": "[encoded data removed]",
      "text/plain": [
       "<Figure size 432x288 with 1 Axes>"
      ]
     },
     "metadata": {
      "needs_background": "light"
     },
     "output_type": "display_data"
    }
   ],
   "source": [
    "plt.title('ROC Flights') #create chart of above results, lableing chart for readability \n",
    "plt.plot(fpr, tpr, 'b', label = 'AUC = %0.2f' % ra)\n",
    "plt.legend(loc = 'lower right')\n",
    "plt.plot([0, 1], [0, 1],'r--')\n",
    "plt.xlim([0, 1])\n",
    "plt.ylim([0, 1])\n",
    "plt.ylabel('True Positive Rate')\n",
    "plt.xlabel('False Positive Rate')\n",
    "plt.show()"
   ]
  },
  {
   "cell_type": "code",
   "execution_count": 203,
   "metadata": {},
   "outputs": [
    {
     "data": {
      "text/html": [
       "<div>\n",
       "<style scoped>\n",
       "    .dataframe tbody tr th:only-of-type {\n",
       "        vertical-align: middle;\n",
       "    }\n",
       "\n",
       "    .dataframe tbody tr th {\n",
       "        vertical-align: top;\n",
       "    }\n",
       "\n",
       "    .dataframe thead th {\n",
       "        text-align: right;\n",
       "    }\n",
       "</style>\n",
       "<table border=\"1\" class=\"dataframe\">\n",
       "  <thead>\n",
       "    <tr style=\"text-align: right;\">\n",
       "      <th></th>\n",
       "      <th>DCA</th>\n",
       "      <th>IDA</th>\n",
       "      <th>BWI</th>\n",
       "    </tr>\n",
       "  </thead>\n",
       "  <tbody>\n",
       "    <tr>\n",
       "      <th>ontime</th>\n",
       "      <td>26</td>\n",
       "      <td>140</td>\n",
       "      <td>103</td>\n",
       "    </tr>\n",
       "    <tr>\n",
       "      <th>delayed</th>\n",
       "      <td>66</td>\n",
       "      <td>690</td>\n",
       "      <td>295</td>\n",
       "    </tr>\n",
       "  </tbody>\n",
       "</table>\n",
       "</div>"
      ],
      "text/plain": [
       "         DCA  IDA  BWI\n",
       "ontime    26  140  103\n",
       "delayed   66  690  295"
      ]
     },
     "execution_count": 203,
     "metadata": {},
     "output_type": "execute_result"
    }
   ],
   "source": [
    "status = pd.crosstab(index=X_train[\"Flight Status\"],  #count table showing how many flights were delayed/ontime per airport\n",
    "                            columns=X_train[\"ORIGIN\"])\n",
    "\n",
    "status.columns = [\"DCA\", \"IDA\", \"BWI\"]\n",
    "status.index= [\"ontime\", \"delayed\"]\n",
    "\n",
    "status"
   ]
  },
  {
   "cell_type": "code",
   "execution_count": null,
   "metadata": {},
   "outputs": [],
   "source": [
    "rows = len(index) #count rows for division, percentage results"
   ]
  },
  {
   "cell_type": "code",
   "execution_count": 205,
   "metadata": {},
   "outputs": [
    {
     "data": {
      "text/html": [
       "<div>\n",
       "<style scoped>\n",
       "    .dataframe tbody tr th:only-of-type {\n",
       "        vertical-align: middle;\n",
       "    }\n",
       "\n",
       "    .dataframe tbody tr th {\n",
       "        vertical-align: top;\n",
       "    }\n",
       "\n",
       "    .dataframe thead th {\n",
       "        text-align: right;\n",
       "    }\n",
       "</style>\n",
       "<table border=\"1\" class=\"dataframe\">\n",
       "  <thead>\n",
       "    <tr style=\"text-align: right;\">\n",
       "      <th></th>\n",
       "      <th>DCA</th>\n",
       "      <th>IDA</th>\n",
       "      <th>BWI</th>\n",
       "    </tr>\n",
       "  </thead>\n",
       "  <tbody>\n",
       "    <tr>\n",
       "      <th>ontime</th>\n",
       "      <td>0.011813</td>\n",
       "      <td>0.063607</td>\n",
       "      <td>0.046797</td>\n",
       "    </tr>\n",
       "    <tr>\n",
       "      <th>delayed</th>\n",
       "      <td>0.029986</td>\n",
       "      <td>0.313494</td>\n",
       "      <td>0.134030</td>\n",
       "    </tr>\n",
       "  </tbody>\n",
       "</table>\n",
       "</div>"
      ],
      "text/plain": [
       "              DCA       IDA       BWI\n",
       "ontime   0.011813  0.063607  0.046797\n",
       "delayed  0.029986  0.313494  0.134030"
      ]
     },
     "execution_count": 205,
     "metadata": {},
     "output_type": "execute_result"
    }
   ],
   "source": [
    "status.div(rows, axis=0) #percentage of ontime/delayed flights"
   ]
  },
  {
   "cell_type": "code",
   "execution_count": 206,
   "metadata": {},
   "outputs": [
    {
     "data": {
      "text/plain": [
       "ontime     1773\n",
       "delayed     428\n",
       "Name: Flight Status, dtype: int64"
      ]
     },
     "execution_count": 206,
     "metadata": {},
     "output_type": "execute_result"
    }
   ],
   "source": [
    "data['Flight Status'].value_counts() #Simply supporting the counts of ontime/delayed"
   ]
  },
  {
   "cell_type": "code",
   "execution_count": 228,
   "metadata": {},
   "outputs": [
    {
     "name": "stdout",
     "output_type": "stream",
     "text": [
      "Flight Status\n",
      "delayed    0.194457\n",
      "ontime     0.805543\n",
      "dtype: float64\n"
     ]
    }
   ],
   "source": [
    "prior = data.groupby('Flight Status').size().div(len(data)) #percents of delayed/ontime\n",
    "print(prior)"
   ]
  }
 ],
 "metadata": {
  "kernelspec": {
   "display_name": "Python 3",
   "language": "python",
   "name": "python3"
  },
  "language_info": {
   "codemirror_mode": {
    "name": "ipython",
    "version": 3
   },
   "file_extension": ".py",
   "mimetype": "text/x-python",
   "name": "python",
   "nbconvert_exporter": "python",
   "pygments_lexer": "ipython3",
   "version": "3.8.2"
  }
 },
 "nbformat": 4,
 "nbformat_minor": 4
}
