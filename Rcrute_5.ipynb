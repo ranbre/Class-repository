{
 "cells": [
  {
   "cell_type": "markdown",
   "metadata": {},
   "source": [
    "# Hierarchical Clustreing: Cereal - Assignment 5\n",
    "   \n",
    "   "
   ]
  },
  {
   "cell_type": "code",
   "execution_count": 166,
   "metadata": {},
   "outputs": [],
   "source": [
    "import pandas as pd\n",
    "import numpy as np\n",
    "import hdbscan\n",
    "\n",
    "from sklearn.preprocessing import Normalizer\n",
    "from sklearn import preprocessing, datasets\n",
    "from sklearn.cluster import AgglomerativeClustering, MeanShift as ms\n",
    "from scipy.cluster.hierarchy import linkage, dendrogram\n",
    "from sklearn.model_selection import train_test_split\n",
    "import scipy.cluster.hierarchy as sch\n",
    "from matplotlib import pyplot\n",
    "from sklearn.metrics import pairwise\n",
    "from sklearn.cluster import KMeans\n",
    "from pandas.plotting import parallel_coordinates\n",
    "\n",
    "import matplotlib.pyplot as plt"
   ]
  },
  {
   "cell_type": "code",
   "execution_count": 167,
   "metadata": {},
   "outputs": [],
   "source": [
    "#import data\n",
    "Cereal = pd.read_csv('Cereals.csv') \n",
    "Cereal.set_index('name', inplace=True)"
   ]
  },
  {
   "cell_type": "code",
   "execution_count": 168,
   "metadata": {},
   "outputs": [],
   "source": [
    "#convert value types to float64 (this did not convert all values and gave an error on mfr and type. For this I corrected by using\n",
    "# One hot encoder to encode the values)\n",
    "df = Cereal.astype(np.float64, errors='ignore')"
   ]
  },
  {
   "cell_type": "code",
   "execution_count": 169,
   "metadata": {},
   "outputs": [],
   "source": [
    "#normalize data using max/min method\n",
    "def norm_min_max(df):\n",
    "    return(df-df.min())*1.0/(df.max()-df.min())"
   ]
  },
  {
   "cell_type": "code",
   "execution_count": 170,
   "metadata": {},
   "outputs": [],
   "source": [
    "#remove NA values\n",
    "df= df.dropna(how='any',axis=0)"
   ]
  },
  {
   "cell_type": "code",
   "execution_count": 171,
   "metadata": {},
   "outputs": [
    {
     "name": "stdout",
     "output_type": "stream",
     "text": [
      "<class 'pandas.core.frame.DataFrame'>\n",
      "Index: 74 entries, 100%_Bran to Wheaties_Honey_Gold\n",
      "Data columns (total 15 columns):\n",
      " #   Column    Non-Null Count  Dtype  \n",
      "---  ------    --------------  -----  \n",
      " 0   mfr       74 non-null     object \n",
      " 1   type      74 non-null     object \n",
      " 2   calories  74 non-null     float64\n",
      " 3   protein   74 non-null     float64\n",
      " 4   fat       74 non-null     float64\n",
      " 5   sodium    74 non-null     float64\n",
      " 6   fiber     74 non-null     float64\n",
      " 7   carbo     74 non-null     float64\n",
      " 8   sugars    74 non-null     float64\n",
      " 9   potass    74 non-null     float64\n",
      " 10  vitamins  74 non-null     float64\n",
      " 11  shelf     74 non-null     float64\n",
      " 12  weight    74 non-null     float64\n",
      " 13  cups      74 non-null     float64\n",
      " 14  rating    74 non-null     float64\n",
      "dtypes: float64(13), object(2)\n",
      "memory usage: 9.2+ KB\n"
     ]
    }
   ],
   "source": [
    "#check data type to see what needs to change\n",
    "df.info()"
   ]
  },
  {
   "cell_type": "code",
   "execution_count": 172,
   "metadata": {},
   "outputs": [],
   "source": [
    "#Call one hot encoder to encode the non-numeric values\n",
    "le = preprocessing.LabelEncoder()"
   ]
  },
  {
   "cell_type": "code",
   "execution_count": 173,
   "metadata": {},
   "outputs": [],
   "source": [
    "#encode mfr data\n",
    "df['mfr'] = le.fit_transform(df.mfr)"
   ]
  },
  {
   "cell_type": "code",
   "execution_count": 174,
   "metadata": {},
   "outputs": [],
   "source": [
    "#encode type data\n",
    "df['type'] = le.fit_transform(df.type)"
   ]
  },
  {
   "cell_type": "code",
   "execution_count": 175,
   "metadata": {},
   "outputs": [
    {
     "data": {
      "text/html": [
       "<div>\n",
       "<style scoped>\n",
       "    .dataframe tbody tr th:only-of-type {\n",
       "        vertical-align: middle;\n",
       "    }\n",
       "\n",
       "    .dataframe tbody tr th {\n",
       "        vertical-align: top;\n",
       "    }\n",
       "\n",
       "    .dataframe thead th {\n",
       "        text-align: right;\n",
       "    }\n",
       "</style>\n",
       "<table border=\"1\" class=\"dataframe\">\n",
       "  <thead>\n",
       "    <tr style=\"text-align: right;\">\n",
       "      <th></th>\n",
       "      <th>mfr</th>\n",
       "      <th>type</th>\n",
       "      <th>calories</th>\n",
       "      <th>protein</th>\n",
       "      <th>fat</th>\n",
       "      <th>sodium</th>\n",
       "      <th>fiber</th>\n",
       "      <th>carbo</th>\n",
       "      <th>sugars</th>\n",
       "      <th>potass</th>\n",
       "      <th>vitamins</th>\n",
       "      <th>shelf</th>\n",
       "      <th>weight</th>\n",
       "      <th>cups</th>\n",
       "      <th>rating</th>\n",
       "      <th>0</th>\n",
       "      <th>1</th>\n",
       "    </tr>\n",
       "    <tr>\n",
       "      <th>name</th>\n",
       "      <th></th>\n",
       "      <th></th>\n",
       "      <th></th>\n",
       "      <th></th>\n",
       "      <th></th>\n",
       "      <th></th>\n",
       "      <th></th>\n",
       "      <th></th>\n",
       "      <th></th>\n",
       "      <th></th>\n",
       "      <th></th>\n",
       "      <th></th>\n",
       "      <th></th>\n",
       "      <th></th>\n",
       "      <th></th>\n",
       "      <th></th>\n",
       "      <th></th>\n",
       "    </tr>\n",
       "  </thead>\n",
       "  <tbody>\n",
       "    <tr>\n",
       "      <th>100%_Bran</th>\n",
       "      <td>3</td>\n",
       "      <td>0</td>\n",
       "      <td>70.0</td>\n",
       "      <td>4.0</td>\n",
       "      <td>1.0</td>\n",
       "      <td>130.0</td>\n",
       "      <td>10.0</td>\n",
       "      <td>5.0</td>\n",
       "      <td>6.0</td>\n",
       "      <td>280.0</td>\n",
       "      <td>25.0</td>\n",
       "      <td>3.0</td>\n",
       "      <td>1.0</td>\n",
       "      <td>0.33</td>\n",
       "      <td>68.402973</td>\n",
       "      <td>1</td>\n",
       "      <td>0</td>\n",
       "    </tr>\n",
       "    <tr>\n",
       "      <th>100%_Natural_Bran</th>\n",
       "      <td>5</td>\n",
       "      <td>0</td>\n",
       "      <td>120.0</td>\n",
       "      <td>3.0</td>\n",
       "      <td>5.0</td>\n",
       "      <td>15.0</td>\n",
       "      <td>2.0</td>\n",
       "      <td>8.0</td>\n",
       "      <td>8.0</td>\n",
       "      <td>135.0</td>\n",
       "      <td>0.0</td>\n",
       "      <td>3.0</td>\n",
       "      <td>1.0</td>\n",
       "      <td>1.00</td>\n",
       "      <td>33.983679</td>\n",
       "      <td>1</td>\n",
       "      <td>0</td>\n",
       "    </tr>\n",
       "    <tr>\n",
       "      <th>All-Bran</th>\n",
       "      <td>2</td>\n",
       "      <td>0</td>\n",
       "      <td>70.0</td>\n",
       "      <td>4.0</td>\n",
       "      <td>1.0</td>\n",
       "      <td>260.0</td>\n",
       "      <td>9.0</td>\n",
       "      <td>7.0</td>\n",
       "      <td>5.0</td>\n",
       "      <td>320.0</td>\n",
       "      <td>25.0</td>\n",
       "      <td>3.0</td>\n",
       "      <td>1.0</td>\n",
       "      <td>0.33</td>\n",
       "      <td>59.425505</td>\n",
       "      <td>1</td>\n",
       "      <td>0</td>\n",
       "    </tr>\n",
       "    <tr>\n",
       "      <th>All-Bran_with_Extra_Fiber</th>\n",
       "      <td>2</td>\n",
       "      <td>0</td>\n",
       "      <td>50.0</td>\n",
       "      <td>4.0</td>\n",
       "      <td>0.0</td>\n",
       "      <td>140.0</td>\n",
       "      <td>14.0</td>\n",
       "      <td>8.0</td>\n",
       "      <td>0.0</td>\n",
       "      <td>330.0</td>\n",
       "      <td>25.0</td>\n",
       "      <td>3.0</td>\n",
       "      <td>1.0</td>\n",
       "      <td>0.50</td>\n",
       "      <td>93.704912</td>\n",
       "      <td>1</td>\n",
       "      <td>0</td>\n",
       "    </tr>\n",
       "    <tr>\n",
       "      <th>Apple_Cinnamon_Cheerios</th>\n",
       "      <td>1</td>\n",
       "      <td>0</td>\n",
       "      <td>110.0</td>\n",
       "      <td>2.0</td>\n",
       "      <td>2.0</td>\n",
       "      <td>180.0</td>\n",
       "      <td>1.5</td>\n",
       "      <td>10.5</td>\n",
       "      <td>10.0</td>\n",
       "      <td>70.0</td>\n",
       "      <td>25.0</td>\n",
       "      <td>1.0</td>\n",
       "      <td>1.0</td>\n",
       "      <td>0.75</td>\n",
       "      <td>29.509541</td>\n",
       "      <td>1</td>\n",
       "      <td>0</td>\n",
       "    </tr>\n",
       "    <tr>\n",
       "      <th>...</th>\n",
       "      <td>...</td>\n",
       "      <td>...</td>\n",
       "      <td>...</td>\n",
       "      <td>...</td>\n",
       "      <td>...</td>\n",
       "      <td>...</td>\n",
       "      <td>...</td>\n",
       "      <td>...</td>\n",
       "      <td>...</td>\n",
       "      <td>...</td>\n",
       "      <td>...</td>\n",
       "      <td>...</td>\n",
       "      <td>...</td>\n",
       "      <td>...</td>\n",
       "      <td>...</td>\n",
       "      <td>...</td>\n",
       "      <td>...</td>\n",
       "    </tr>\n",
       "    <tr>\n",
       "      <th>Triples</th>\n",
       "      <td>1</td>\n",
       "      <td>0</td>\n",
       "      <td>110.0</td>\n",
       "      <td>2.0</td>\n",
       "      <td>1.0</td>\n",
       "      <td>250.0</td>\n",
       "      <td>0.0</td>\n",
       "      <td>21.0</td>\n",
       "      <td>3.0</td>\n",
       "      <td>60.0</td>\n",
       "      <td>25.0</td>\n",
       "      <td>3.0</td>\n",
       "      <td>1.0</td>\n",
       "      <td>0.75</td>\n",
       "      <td>39.106174</td>\n",
       "      <td>1</td>\n",
       "      <td>0</td>\n",
       "    </tr>\n",
       "    <tr>\n",
       "      <th>Trix</th>\n",
       "      <td>1</td>\n",
       "      <td>0</td>\n",
       "      <td>110.0</td>\n",
       "      <td>1.0</td>\n",
       "      <td>1.0</td>\n",
       "      <td>140.0</td>\n",
       "      <td>0.0</td>\n",
       "      <td>13.0</td>\n",
       "      <td>12.0</td>\n",
       "      <td>25.0</td>\n",
       "      <td>25.0</td>\n",
       "      <td>2.0</td>\n",
       "      <td>1.0</td>\n",
       "      <td>1.00</td>\n",
       "      <td>27.753301</td>\n",
       "      <td>1</td>\n",
       "      <td>0</td>\n",
       "    </tr>\n",
       "    <tr>\n",
       "      <th>Wheat_Chex</th>\n",
       "      <td>6</td>\n",
       "      <td>0</td>\n",
       "      <td>100.0</td>\n",
       "      <td>3.0</td>\n",
       "      <td>1.0</td>\n",
       "      <td>230.0</td>\n",
       "      <td>3.0</td>\n",
       "      <td>17.0</td>\n",
       "      <td>3.0</td>\n",
       "      <td>115.0</td>\n",
       "      <td>25.0</td>\n",
       "      <td>1.0</td>\n",
       "      <td>1.0</td>\n",
       "      <td>0.67</td>\n",
       "      <td>49.787445</td>\n",
       "      <td>1</td>\n",
       "      <td>0</td>\n",
       "    </tr>\n",
       "    <tr>\n",
       "      <th>Wheaties</th>\n",
       "      <td>1</td>\n",
       "      <td>0</td>\n",
       "      <td>100.0</td>\n",
       "      <td>3.0</td>\n",
       "      <td>1.0</td>\n",
       "      <td>200.0</td>\n",
       "      <td>3.0</td>\n",
       "      <td>17.0</td>\n",
       "      <td>3.0</td>\n",
       "      <td>110.0</td>\n",
       "      <td>25.0</td>\n",
       "      <td>1.0</td>\n",
       "      <td>1.0</td>\n",
       "      <td>1.00</td>\n",
       "      <td>51.592193</td>\n",
       "      <td>1</td>\n",
       "      <td>0</td>\n",
       "    </tr>\n",
       "    <tr>\n",
       "      <th>Wheaties_Honey_Gold</th>\n",
       "      <td>1</td>\n",
       "      <td>0</td>\n",
       "      <td>110.0</td>\n",
       "      <td>2.0</td>\n",
       "      <td>1.0</td>\n",
       "      <td>200.0</td>\n",
       "      <td>1.0</td>\n",
       "      <td>16.0</td>\n",
       "      <td>8.0</td>\n",
       "      <td>60.0</td>\n",
       "      <td>25.0</td>\n",
       "      <td>1.0</td>\n",
       "      <td>1.0</td>\n",
       "      <td>0.75</td>\n",
       "      <td>36.187559</td>\n",
       "      <td>1</td>\n",
       "      <td>0</td>\n",
       "    </tr>\n",
       "  </tbody>\n",
       "</table>\n",
       "<p>74 rows × 17 columns</p>\n",
       "</div>"
      ],
      "text/plain": [
       "                           mfr  type  calories  protein  fat  sodium  fiber  \\\n",
       "name                                                                          \n",
       "100%_Bran                    3     0      70.0      4.0  1.0   130.0   10.0   \n",
       "100%_Natural_Bran            5     0     120.0      3.0  5.0    15.0    2.0   \n",
       "All-Bran                     2     0      70.0      4.0  1.0   260.0    9.0   \n",
       "All-Bran_with_Extra_Fiber    2     0      50.0      4.0  0.0   140.0   14.0   \n",
       "Apple_Cinnamon_Cheerios      1     0     110.0      2.0  2.0   180.0    1.5   \n",
       "...                        ...   ...       ...      ...  ...     ...    ...   \n",
       "Triples                      1     0     110.0      2.0  1.0   250.0    0.0   \n",
       "Trix                         1     0     110.0      1.0  1.0   140.0    0.0   \n",
       "Wheat_Chex                   6     0     100.0      3.0  1.0   230.0    3.0   \n",
       "Wheaties                     1     0     100.0      3.0  1.0   200.0    3.0   \n",
       "Wheaties_Honey_Gold          1     0     110.0      2.0  1.0   200.0    1.0   \n",
       "\n",
       "                           carbo  sugars  potass  vitamins  shelf  weight  \\\n",
       "name                                                                        \n",
       "100%_Bran                    5.0     6.0   280.0      25.0    3.0     1.0   \n",
       "100%_Natural_Bran            8.0     8.0   135.0       0.0    3.0     1.0   \n",
       "All-Bran                     7.0     5.0   320.0      25.0    3.0     1.0   \n",
       "All-Bran_with_Extra_Fiber    8.0     0.0   330.0      25.0    3.0     1.0   \n",
       "Apple_Cinnamon_Cheerios     10.5    10.0    70.0      25.0    1.0     1.0   \n",
       "...                          ...     ...     ...       ...    ...     ...   \n",
       "Triples                     21.0     3.0    60.0      25.0    3.0     1.0   \n",
       "Trix                        13.0    12.0    25.0      25.0    2.0     1.0   \n",
       "Wheat_Chex                  17.0     3.0   115.0      25.0    1.0     1.0   \n",
       "Wheaties                    17.0     3.0   110.0      25.0    1.0     1.0   \n",
       "Wheaties_Honey_Gold         16.0     8.0    60.0      25.0    1.0     1.0   \n",
       "\n",
       "                           cups     rating  0  1  \n",
       "name                                              \n",
       "100%_Bran                  0.33  68.402973  1  0  \n",
       "100%_Natural_Bran          1.00  33.983679  1  0  \n",
       "All-Bran                   0.33  59.425505  1  0  \n",
       "All-Bran_with_Extra_Fiber  0.50  93.704912  1  0  \n",
       "Apple_Cinnamon_Cheerios    0.75  29.509541  1  0  \n",
       "...                         ...        ... .. ..  \n",
       "Triples                    0.75  39.106174  1  0  \n",
       "Trix                       1.00  27.753301  1  0  \n",
       "Wheat_Chex                 0.67  49.787445  1  0  \n",
       "Wheaties                   1.00  51.592193  1  0  \n",
       "Wheaties_Honey_Gold        0.75  36.187559  1  0  \n",
       "\n",
       "[74 rows x 17 columns]"
      ]
     },
     "execution_count": 175,
     "metadata": {},
     "output_type": "execute_result"
    }
   ],
   "source": [
    "#check label encoder worked \n",
    "df.join(pd.get_dummies(df.mfr))\n",
    "df.join(pd.get_dummies(df.type))"
   ]
  },
  {
   "cell_type": "code",
   "execution_count": 176,
   "metadata": {},
   "outputs": [
    {
     "data": {
      "text/html": [
       "<div>\n",
       "<style scoped>\n",
       "    .dataframe tbody tr th:only-of-type {\n",
       "        vertical-align: middle;\n",
       "    }\n",
       "\n",
       "    .dataframe tbody tr th {\n",
       "        vertical-align: top;\n",
       "    }\n",
       "\n",
       "    .dataframe thead th {\n",
       "        text-align: right;\n",
       "    }\n",
       "</style>\n",
       "<table border=\"1\" class=\"dataframe\">\n",
       "  <thead>\n",
       "    <tr style=\"text-align: right;\">\n",
       "      <th>name</th>\n",
       "      <th>100%_Bran</th>\n",
       "      <th>100%_Natural_Bran</th>\n",
       "      <th>All-Bran</th>\n",
       "      <th>All-Bran_with_Extra_Fiber</th>\n",
       "      <th>Apple_Cinnamon_Cheerios</th>\n",
       "      <th>Apple_Jacks</th>\n",
       "      <th>Basic_4</th>\n",
       "      <th>Bran_Chex</th>\n",
       "      <th>Bran_Flakes</th>\n",
       "      <th>Cap'n'Crunch</th>\n",
       "      <th>...</th>\n",
       "      <th>Special_K</th>\n",
       "      <th>Strawberry_Fruit_Wheats</th>\n",
       "      <th>Total_Corn_Flakes</th>\n",
       "      <th>Total_Raisin_Bran</th>\n",
       "      <th>Total_Whole_Grain</th>\n",
       "      <th>Triples</th>\n",
       "      <th>Trix</th>\n",
       "      <th>Wheat_Chex</th>\n",
       "      <th>Wheaties</th>\n",
       "      <th>Wheaties_Honey_Gold</th>\n",
       "    </tr>\n",
       "    <tr>\n",
       "      <th>name</th>\n",
       "      <th></th>\n",
       "      <th></th>\n",
       "      <th></th>\n",
       "      <th></th>\n",
       "      <th></th>\n",
       "      <th></th>\n",
       "      <th></th>\n",
       "      <th></th>\n",
       "      <th></th>\n",
       "      <th></th>\n",
       "      <th></th>\n",
       "      <th></th>\n",
       "      <th></th>\n",
       "      <th></th>\n",
       "      <th></th>\n",
       "      <th></th>\n",
       "      <th></th>\n",
       "      <th></th>\n",
       "      <th></th>\n",
       "      <th></th>\n",
       "      <th></th>\n",
       "    </tr>\n",
       "  </thead>\n",
       "  <tbody>\n",
       "    <tr>\n",
       "      <th>100%_Bran</th>\n",
       "      <td>0.000000</td>\n",
       "      <td>196.616725</td>\n",
       "      <td>136.336330</td>\n",
       "      <td>60.854063</td>\n",
       "      <td>223.258539</td>\n",
       "      <td>256.036175</td>\n",
       "      <td>208.870801</td>\n",
       "      <td>172.771349</td>\n",
       "      <td>123.372600</td>\n",
       "      <td>270.852946</td>\n",
       "      <td>...</td>\n",
       "      <td>250.359086</td>\n",
       "      <td>223.524388</td>\n",
       "      <td>270.919607</td>\n",
       "      <td>135.703906</td>\n",
       "      <td>202.440747</td>\n",
       "      <td>256.186414</td>\n",
       "      <td>261.900448</td>\n",
       "      <td>196.691773</td>\n",
       "      <td>187.600776</td>\n",
       "      <td>236.972592</td>\n",
       "    </tr>\n",
       "    <tr>\n",
       "      <th>100%_Natural_Bran</th>\n",
       "      <td>196.616725</td>\n",
       "      <td>0.000000</td>\n",
       "      <td>313.221544</td>\n",
       "      <td>250.967878</td>\n",
       "      <td>179.542698</td>\n",
       "      <td>154.701827</td>\n",
       "      <td>200.273572</td>\n",
       "      <td>190.153161</td>\n",
       "      <td>207.407239</td>\n",
       "      <td>230.117736</td>\n",
       "      <td>...</td>\n",
       "      <td>232.063854</td>\n",
       "      <td>65.453498</td>\n",
       "      <td>233.622733</td>\n",
       "      <td>224.054261</td>\n",
       "      <td>213.383832</td>\n",
       "      <td>248.661019</td>\n",
       "      <td>169.029044</td>\n",
       "      <td>219.152613</td>\n",
       "      <td>190.599212</td>\n",
       "      <td>201.697594</td>\n",
       "    </tr>\n",
       "    <tr>\n",
       "      <th>All-Bran</th>\n",
       "      <td>136.336330</td>\n",
       "      <td>313.221544</td>\n",
       "      <td>0.000000</td>\n",
       "      <td>126.992546</td>\n",
       "      <td>267.392299</td>\n",
       "      <td>323.699839</td>\n",
       "      <td>234.911601</td>\n",
       "      <td>205.536648</td>\n",
       "      <td>141.051297</td>\n",
       "      <td>295.317965</td>\n",
       "      <td>...</td>\n",
       "      <td>270.042711</td>\n",
       "      <td>336.797347</td>\n",
       "      <td>304.565629</td>\n",
       "      <td>156.997948</td>\n",
       "      <td>233.476844</td>\n",
       "      <td>264.573339</td>\n",
       "      <td>322.808887</td>\n",
       "      <td>209.950013</td>\n",
       "      <td>220.924896</td>\n",
       "      <td>271.114696</td>\n",
       "    </tr>\n",
       "    <tr>\n",
       "      <th>All-Bran_with_Extra_Fiber</th>\n",
       "      <td>60.854063</td>\n",
       "      <td>250.967878</td>\n",
       "      <td>126.992546</td>\n",
       "      <td>0.000000</td>\n",
       "      <td>277.842776</td>\n",
       "      <td>312.838984</td>\n",
       "      <td>260.240747</td>\n",
       "      <td>222.312439</td>\n",
       "      <td>166.935526</td>\n",
       "      <td>323.154468</td>\n",
       "      <td>...</td>\n",
       "      <td>298.699625</td>\n",
       "      <td>276.053525</td>\n",
       "      <td>321.310498</td>\n",
       "      <td>175.536575</td>\n",
       "      <td>250.071155</td>\n",
       "      <td>303.250861</td>\n",
       "      <td>318.358077</td>\n",
       "      <td>242.871927</td>\n",
       "      <td>237.679892</td>\n",
       "      <td>289.335978</td>\n",
       "    </tr>\n",
       "    <tr>\n",
       "      <th>Apple_Cinnamon_Cheerios</th>\n",
       "      <td>223.258539</td>\n",
       "      <td>179.542698</td>\n",
       "      <td>267.392299</td>\n",
       "      <td>277.842776</td>\n",
       "      <td>0.000000</td>\n",
       "      <td>68.271454</td>\n",
       "      <td>48.190197</td>\n",
       "      <td>65.407082</td>\n",
       "      <td>127.781649</td>\n",
       "      <td>55.524634</td>\n",
       "      <td>...</td>\n",
       "      <td>58.168300</td>\n",
       "      <td>170.214132</td>\n",
       "      <td>86.623410</td>\n",
       "      <td>179.651476</td>\n",
       "      <td>90.036998</td>\n",
       "      <td>72.516173</td>\n",
       "      <td>60.362628</td>\n",
       "      <td>71.810165</td>\n",
       "      <td>51.799672</td>\n",
       "      <td>24.085181</td>\n",
       "    </tr>\n",
       "  </tbody>\n",
       "</table>\n",
       "<p>5 rows × 74 columns</p>\n",
       "</div>"
      ],
      "text/plain": [
       "name                        100%_Bran  100%_Natural_Bran    All-Bran  \\\n",
       "name                                                                   \n",
       "100%_Bran                    0.000000         196.616725  136.336330   \n",
       "100%_Natural_Bran          196.616725           0.000000  313.221544   \n",
       "All-Bran                   136.336330         313.221544    0.000000   \n",
       "All-Bran_with_Extra_Fiber   60.854063         250.967878  126.992546   \n",
       "Apple_Cinnamon_Cheerios    223.258539         179.542698  267.392299   \n",
       "\n",
       "name                       All-Bran_with_Extra_Fiber  Apple_Cinnamon_Cheerios  \\\n",
       "name                                                                            \n",
       "100%_Bran                                  60.854063               223.258539   \n",
       "100%_Natural_Bran                         250.967878               179.542698   \n",
       "All-Bran                                  126.992546               267.392299   \n",
       "All-Bran_with_Extra_Fiber                   0.000000               277.842776   \n",
       "Apple_Cinnamon_Cheerios                   277.842776                 0.000000   \n",
       "\n",
       "name                       Apple_Jacks     Basic_4   Bran_Chex  Bran_Flakes  \\\n",
       "name                                                                          \n",
       "100%_Bran                   256.036175  208.870801  172.771349   123.372600   \n",
       "100%_Natural_Bran           154.701827  200.273572  190.153161   207.407239   \n",
       "All-Bran                    323.699839  234.911601  205.536648   141.051297   \n",
       "All-Bran_with_Extra_Fiber   312.838984  260.240747  222.312439   166.935526   \n",
       "Apple_Cinnamon_Cheerios      68.271454   48.190197   65.407082   127.781649   \n",
       "\n",
       "name                       Cap'n'Crunch  ...   Special_K  \\\n",
       "name                                     ...               \n",
       "100%_Bran                    270.852946  ...  250.359086   \n",
       "100%_Natural_Bran            230.117736  ...  232.063854   \n",
       "All-Bran                     295.317965  ...  270.042711   \n",
       "All-Bran_with_Extra_Fiber    323.154468  ...  298.699625   \n",
       "Apple_Cinnamon_Cheerios       55.524634  ...   58.168300   \n",
       "\n",
       "name                       Strawberry_Fruit_Wheats  Total_Corn_Flakes  \\\n",
       "name                                                                    \n",
       "100%_Bran                               223.524388         270.919607   \n",
       "100%_Natural_Bran                        65.453498         233.622733   \n",
       "All-Bran                                336.797347         304.565629   \n",
       "All-Bran_with_Extra_Fiber               276.053525         321.310498   \n",
       "Apple_Cinnamon_Cheerios                 170.214132          86.623410   \n",
       "\n",
       "name                       Total_Raisin_Bran  Total_Whole_Grain     Triples  \\\n",
       "name                                                                          \n",
       "100%_Bran                         135.703906         202.440747  256.186414   \n",
       "100%_Natural_Bran                 224.054261         213.383832  248.661019   \n",
       "All-Bran                          156.997948         233.476844  264.573339   \n",
       "All-Bran_with_Extra_Fiber         175.536575         250.071155  303.250861   \n",
       "Apple_Cinnamon_Cheerios           179.651476          90.036998   72.516173   \n",
       "\n",
       "name                             Trix  Wheat_Chex    Wheaties  \\\n",
       "name                                                            \n",
       "100%_Bran                  261.900448  196.691773  187.600776   \n",
       "100%_Natural_Bran          169.029044  219.152613  190.599212   \n",
       "All-Bran                   322.808887  209.950013  220.924896   \n",
       "All-Bran_with_Extra_Fiber  318.358077  242.871927  237.679892   \n",
       "Apple_Cinnamon_Cheerios     60.362628   71.810165   51.799672   \n",
       "\n",
       "name                       Wheaties_Honey_Gold  \n",
       "name                                            \n",
       "100%_Bran                           236.972592  \n",
       "100%_Natural_Bran                   201.697594  \n",
       "All-Bran                            271.114696  \n",
       "All-Bran_with_Extra_Fiber           289.335978  \n",
       "Apple_Cinnamon_Cheerios              24.085181  \n",
       "\n",
       "[5 rows x 74 columns]"
      ]
     },
     "execution_count": 176,
     "metadata": {},
     "output_type": "execute_result"
    }
   ],
   "source": [
    "#show variable distance table\n",
    "d = pairwise.pairwise_distances(df, metric='euclidean')\n",
    "pd.DataFrame(d, columns=df.index, index=df.index).head(5)"
   ]
  },
  {
   "cell_type": "code",
   "execution_count": 177,
   "metadata": {},
   "outputs": [
    {
     "data": {
      "image/png": "[encoded data removed]",
      "text/plain": [
       "<Figure size 1440x1080 with 1 Axes>"
      ]
     },
     "metadata": {
      "needs_background": "light"
     },
     "output_type": "display_data"
    }
   ],
   "source": [
    "#plot dendrogram based on single linkage\n",
    "plt.figure(figsize=(20, 15))\n",
    "dendrogram = sch.dendrogram(sch.linkage(df, method='single'))"
   ]
  },
  {
   "cell_type": "code",
   "execution_count": 178,
   "metadata": {},
   "outputs": [
    {
     "data": {
      "image/png": "[encoded data removed]",
      "text/plain": [
       "<Figure size 1440x1080 with 1 Axes>"
      ]
     },
     "metadata": {
      "needs_background": "light"
     },
     "output_type": "display_data"
    }
   ],
   "source": [
    "#plot dendrogram based on ward linkage\n",
    "plt.figure(figsize=(20, 15))\n",
    "dendrogram = sch.dendrogram(sch.linkage(df, method='ward'))"
   ]
  },
  {
   "cell_type": "code",
   "execution_count": 179,
   "metadata": {},
   "outputs": [
    {
     "data": {
      "image/png": "[encoded data removed]",
      "text/plain": [
       "<Figure size 1440x1080 with 1 Axes>"
      ]
     },
     "metadata": {
      "needs_background": "light"
     },
     "output_type": "display_data"
    }
   ],
   "source": [
    "#plot dendrogram based on average linkage\n",
    "plt.figure(figsize=(20, 15))\n",
    "dendrogram = sch.dendrogram(sch.linkage(df, method='average'))"
   ]
  },
  {
   "cell_type": "code",
   "execution_count": 180,
   "metadata": {},
   "outputs": [
    {
     "data": {
      "image/png": "[encoded data removed]",
      "text/plain": [
       "<Figure size 1080x720 with 1 Axes>"
      ]
     },
     "metadata": {
      "needs_background": "light"
     },
     "output_type": "display_data"
    }
   ],
   "source": [
    "#plot dendrogram based on complete linkage\n",
    "plt.figure(figsize=(15, 10))\n",
    "dendrogram = sch.dendrogram(sch.linkage(df, method='complete'))"
   ]
  },
  {
   "cell_type": "markdown",
   "metadata": {},
   "source": [
    "# Comment on the differneces between Hierarchical Clustreing and K-Means. How many clusters should be used?\n",
    "\n",
    ">There are some major differences between K-means and Hierarchical clustering that should be noted.  K-means can easily adapt to new data entries\n",
    ">while hierarchical clusering is more ridgid and will not adapt once clusters are set. Another notable difference is that hierarchical clusering\n",
    ">produces a dendrogram for visualizing the clusters, which makes it more pratical for smaller batches of data.  K-means is typically plotted\n",
    ">as a scatterplot, making it more friendly for larger sets of data. However, a downfall of k-means clustering is that it assumes that data\n",
    ">is spherical and will not adjust to outliers as well becuase of this assumption. (this is an area where HDBSCAN surpasses both)\n",
    "\n",
    "\n",
    "# How many clusters should be used?\n",
    "> After looking at the different methods for linkage, it appears that most of these graphs \n",
    "> support having 2-3 clusters.  The method for determining this is the flat cut \n",
    "> where typically you would 'cut' the threads of your clusters on the highest uninterrupted line.\n",
    "> Each of these clusting maps provide a slightly different 'recommended' clustering method.\n",
    "> We can see later on that with k-means on the same data, using the Elbow method, it supports the same\n",
    "> number of clusters as ideal.\n",
    "\n",
    "# It is also important to note the alternative to K-Means & Hierarchical Clustering...\n",
    "> HDBSCAN is a great alternative to kNN or Heirarchal Clustering because it deals with distance differently. HDBSCAN is an evolution of\n",
    "> DBSCAN.  DBSCAN is nutoriously sensitvie when it comes to setting the Epsiol and Minpts -- which will substantially affect clusters.\n",
    "\n",
    "> HDBSCAN is also a great algorithm for the Cereal classification project becuase it is an algorithm that is designed to work with \n",
    "> small datasets. The distance measure used in this algorithm is mutual reachability which is based primarily off desintiy of data points.\n",
    "\n",
    "> Another reason to use HDBSCAN over Hierarchical Clustering is due to the fact that it works well with non-spherical data, where other \n",
    "> clustering algorithms add some primary assumptions that data points will be spherical on a graph. \n",
    "\n",
    "# . . .Demonstration below"
   ]
  },
  {
   "cell_type": "code",
   "execution_count": 181,
   "metadata": {},
   "outputs": [],
   "source": [
    "# call HDBSCAN\n",
    "clusterer = hdbscan.HDBSCAN()"
   ]
  },
  {
   "cell_type": "code",
   "execution_count": 182,
   "metadata": {},
   "outputs": [
    {
     "data": {
      "text/plain": [
       "HDBSCAN(algorithm='best', allow_single_cluster=False, alpha=1.0,\n",
       "        approx_min_span_tree=True, cluster_selection_epsilon=0.0,\n",
       "        cluster_selection_method='eom', core_dist_n_jobs=4,\n",
       "        gen_min_span_tree=False, leaf_size=40,\n",
       "        match_reference_implementation=False, memory=Memory(location=None),\n",
       "        metric='euclidean', min_cluster_size=5, min_samples=None, p=None,\n",
       "        prediction_data=False)"
      ]
     },
     "execution_count": 182,
     "metadata": {},
     "output_type": "execute_result"
    }
   ],
   "source": [
    "# Take prepared data and fit to HDBSCAN - this will assign clusters properly accounting\n",
    "# for noise\n",
    "clusterer.fit(df)"
   ]
  },
  {
   "cell_type": "code",
   "execution_count": 183,
   "metadata": {},
   "outputs": [
    {
     "data": {
      "text/plain": [
       "array([-1,  0, -1, -1,  1,  1,  1,  1, -1,  1, -1,  1,  1,  1,  1,  1,  1,\n",
       "        1,  1,  1,  1,  1,  1,  1,  0,  1, -1,  1, -1,  1,  1,  1,  0,  1,\n",
       "        1,  1, -1, -1,  1,  1,  1,  0, -1,  1,  1,  1,  1,  1,  1,  1, -1,\n",
       "       -1, -1, -1,  1, -1,  1,  0,  1,  1,  0,  0,  0,  1,  1,  0, -1, -1,\n",
       "       -1,  1,  1,  1,  1,  1])"
      ]
     },
     "execution_count": 183,
     "metadata": {},
     "output_type": "execute_result"
    }
   ],
   "source": [
    "#This array will show how the clusters fall. -1 indicates noise in data sample\n",
    "clusterer.labels_"
   ]
  },
  {
   "cell_type": "code",
   "execution_count": 184,
   "metadata": {},
   "outputs": [
    {
     "data": {
      "text/plain": [
       "1"
      ]
     },
     "execution_count": 184,
     "metadata": {},
     "output_type": "execute_result"
    }
   ],
   "source": [
    "# This shows optimal amount of clusters. List starts at 0. This indicates that there are two \n",
    "# optimal clusters(0 and 1).\n",
    "clusterer.labels_.max()"
   ]
  },
  {
   "cell_type": "code",
   "execution_count": 185,
   "metadata": {},
   "outputs": [
    {
     "data": {
      "text/plain": [
       "array([0.        , 0.70878284, 0.        , 0.        , 1.        ,\n",
       "       1.        , 1.        , 1.        , 0.        , 1.        ,\n",
       "       0.        , 1.        , 1.        , 1.        , 1.        ,\n",
       "       1.        , 1.        , 1.        , 1.        , 1.        ,\n",
       "       1.        , 1.        , 1.        , 1.        , 1.        ,\n",
       "       1.        , 0.        , 1.        , 0.        , 1.        ,\n",
       "       1.        , 1.        , 0.59244389, 1.        , 1.        ,\n",
       "       1.        , 0.        , 0.        , 1.        , 1.        ,\n",
       "       1.        , 1.        , 0.        , 1.        , 1.        ,\n",
       "       1.        , 1.        , 1.        , 1.        , 1.        ,\n",
       "       0.        , 0.        , 0.        , 0.        , 1.        ,\n",
       "       0.        , 1.        , 1.        , 1.        , 1.        ,\n",
       "       1.        , 0.7555975 , 1.        , 1.        , 1.        ,\n",
       "       0.93122484, 0.        , 0.        , 0.        , 1.        ,\n",
       "       1.        , 1.        , 1.        , 1.        ])"
      ]
     },
     "execution_count": 185,
     "metadata": {},
     "output_type": "execute_result"
    }
   ],
   "source": [
    "clusterer.probabilities_"
   ]
  },
  {
   "cell_type": "code",
   "execution_count": 186,
   "metadata": {},
   "outputs": [
    {
     "name": "stdout",
     "output_type": "stream",
     "text": [
      "-1 :  100%_Bran, All-Bran, All-Bran_with_Extra_Fiber, Bran_Flakes, Cheerios, Fruitful_Bran, Golden_Crisp, Just_Right_Crunchy__Nuggets, Just_Right_Fruit_&_Nut, Muesli_Raisins,_Dates,_&_Almonds, Post_Nat._Raisin_Bran, Product_19, Puffed_Rice, Puffed_Wheat, Raisin_Bran, Total_Corn_Flakes, Total_Raisin_Bran, Total_Whole_Grain\n",
      "0 :  100%_Natural_Bran, Frosted_Mini-Wheats, Great_Grains_Pecan, Maypo, Raisin_Squares, Shredded_Wheat, Shredded_Wheat_'n'Bran, Shredded_Wheat_spoon_size, Strawberry_Fruit_Wheats\n",
      "1 :  Apple_Cinnamon_Cheerios, Apple_Jacks, Basic_4, Bran_Chex, Cap'n'Crunch, Cinnamon_Toast_Crunch, Clusters, Cocoa_Puffs, Corn_Chex, Corn_Flakes, Corn_Pops, Count_Chocula, Cracklin'_Oat_Bran, Crispix, Crispy_Wheat_&_Raisins, Double_Chex, Froot_Loops, Frosted_Flakes, Fruit_&_Fibre_Dates,_Walnuts,_and_Oats, Fruity_Pebbles, Golden_Grahams, Grape_Nuts_Flakes, Grape-Nuts, Honey_Graham_Ohs, Honey_Nut_Cheerios, Honey-comb, Kix, Life, Lucky_Charms, Muesli_Raisins,_Peaches,_&_Pecans, Mueslix_Crispy_Blend, Multi-Grain_Cheerios, Nut&Honey_Crunch, Nutri-Grain_Almond-Raisin, Nutri-grain_Wheat, Oatmeal_Raisin_Crisp, Quaker_Oat_Squares, Raisin_Nut_Bran, Rice_Chex, Rice_Krispies, Smacks, Special_K, Triples, Trix, Wheat_Chex, Wheaties, Wheaties_Honey_Gold\n"
     ]
    }
   ],
   "source": [
    "memb = pd.Series(clusterer.labels_, index=df_norm.index)\n",
    "for key, item in memb.groupby(memb):\n",
    "    print(key, ': ', ', '.join(item.index))"
   ]
  },
  {
   "cell_type": "markdown",
   "metadata": {},
   "source": [
    "# Check cluster stability and distance measures . . ."
   ]
  },
  {
   "cell_type": "code",
   "execution_count": 187,
   "metadata": {},
   "outputs": [],
   "source": [
    "#Load data for preprocessing this time for k-means cluster analysis\n",
    "df = pd.read_csv('Cereals.csv')\n",
    "df.set_index('name', inplace=True)\n",
    "df = df.apply(lambda x: x.astype('float64', errors='ignore'))"
   ]
  },
  {
   "cell_type": "code",
   "execution_count": 188,
   "metadata": {},
   "outputs": [],
   "source": [
    "# One hot encoder for data encoding\n",
    "df['mfr'] = le.fit_transform(df.mfr)"
   ]
  },
  {
   "cell_type": "code",
   "execution_count": 189,
   "metadata": {},
   "outputs": [],
   "source": [
    "df['type'] = le.fit_transform(df.type)"
   ]
  },
  {
   "cell_type": "code",
   "execution_count": 190,
   "metadata": {},
   "outputs": [],
   "source": [
    "# Drop NA values from data\n",
    "df= df.dropna(how='any',axis=0)"
   ]
  },
  {
   "cell_type": "code",
   "execution_count": 191,
   "metadata": {},
   "outputs": [],
   "source": [
    "# scale data and apply K-means\n",
    "df_norm = df.apply(preprocessing.scale, axis=0)\n",
    "\n",
    "kmeans = KMeans(n_clusters=3, random_state=0).fit(df_norm)"
   ]
  },
  {
   "cell_type": "code",
   "execution_count": 192,
   "metadata": {},
   "outputs": [
    {
     "name": "stdout",
     "output_type": "stream",
     "text": [
      "0 :  100%_Natural_Bran, Basic_4, Cracklin'_Oat_Bran, Fruit_&_Fibre_Dates,_Walnuts,_and_Oats, Fruitful_Bran, Just_Right_Fruit_&_Nut, Muesli_Raisins,_Dates,_&_Almonds, Muesli_Raisins,_Peaches,_&_Pecans, Mueslix_Crispy_Blend, Nutri-Grain_Almond-Raisin, Oatmeal_Raisin_Crisp, Post_Nat._Raisin_Bran, Raisin_Bran, Total_Raisin_Bran\n",
      "1 :  100%_Bran, All-Bran, All-Bran_with_Extra_Fiber, Bran_Chex, Bran_Flakes, Cheerios, Clusters, Double_Chex, Frosted_Mini-Wheats, Grape_Nuts_Flakes, Grape-Nuts, Great_Grains_Pecan, Life, Maypo, Nutri-grain_Wheat, Puffed_Rice, Puffed_Wheat, Quaker_Oat_Squares, Raisin_Nut_Bran, Raisin_Squares, Shredded_Wheat, Shredded_Wheat_'n'Bran, Shredded_Wheat_spoon_size, Special_K, Strawberry_Fruit_Wheats, Total_Whole_Grain, Wheat_Chex, Wheaties\n",
      "2 :  Apple_Cinnamon_Cheerios, Apple_Jacks, Cap'n'Crunch, Cinnamon_Toast_Crunch, Cocoa_Puffs, Corn_Chex, Corn_Flakes, Corn_Pops, Count_Chocula, Crispix, Crispy_Wheat_&_Raisins, Froot_Loops, Frosted_Flakes, Fruity_Pebbles, Golden_Crisp, Golden_Grahams, Honey_Graham_Ohs, Honey_Nut_Cheerios, Honey-comb, Just_Right_Crunchy__Nuggets, Kix, Lucky_Charms, Multi-Grain_Cheerios, Nut&Honey_Crunch, Product_19, Rice_Chex, Rice_Krispies, Smacks, Total_Corn_Flakes, Triples, Trix, Wheaties_Honey_Gold\n"
     ]
    }
   ],
   "source": [
    "# You can see the cluster distribution is different using K-means versus HBDSCAN\n",
    "memb = pd.Series(kmeans.labels_, index=df_norm.index)\n",
    "for key, item in memb.groupby(memb):\n",
    "    print(key, ': ', ', '.join(item.index))"
   ]
  },
  {
   "cell_type": "code",
   "execution_count": 193,
   "metadata": {},
   "outputs": [
    {
     "name": "stdout",
     "output_type": "stream",
     "text": [
      "     mfr   type  calories  protein    fat  sodium  fiber  carbo  sugars  \\\n",
      "0  0.124 -0.117     1.274    0.589  1.000   0.041  0.535 -0.013   0.767   \n",
      "1  0.250  0.192    -0.791    0.589 -0.286  -0.491  0.498 -0.119  -0.800   \n",
      "2 -0.273 -0.117     0.135   -0.773 -0.188   0.412 -0.670  0.110   0.365   \n",
      "\n",
      "   potass  vitamins  shelf  weight   cups  rating  \n",
      "0   0.995     0.220  0.862   1.415 -0.275  -0.435  \n",
      "1   0.351    -0.264  0.084  -0.476 -0.391   0.991  \n",
      "2  -0.742     0.134 -0.451  -0.202  0.463  -0.677  \n"
     ]
    }
   ],
   "source": [
    "# Show distance measures from cluster centers\n",
    "centroids = pd.DataFrame(kmeans.cluster_centers_, columns=df_norm.columns)\n",
    "pd.set_option('precision', 3)\n",
    "print(centroids)\n",
    "pd.set_option('precision', 6)"
   ]
  },
  {
   "cell_type": "code",
   "execution_count": 194,
   "metadata": {},
   "outputs": [
    {
     "name": "stdout",
     "output_type": "stream",
     "text": [
      "Cluster 0 (14 members): 126.48 within cluster\n",
      "Cluster 1 (28 members): 437.21 within cluster\n",
      "Cluster 2 (32 members): 231.57 within cluster\n"
     ]
    }
   ],
   "source": [
    "#Here we can see the distribution of the clusters \n",
    "withinClusterSS = [0] * 3\n",
    "clusterCount = [0] * 3\n",
    "for cluster, distance in zip(kmeans.labels_, kmeans.transform(df_norm)):\n",
    "    withinClusterSS[cluster] += distance[cluster]**2\n",
    "    clusterCount[cluster] += 1\n",
    "for cluster, withClustSS in enumerate(withinClusterSS):\n",
    "    print('Cluster {} ({} members): {:5.2f} within cluster'.format(cluster, \n",
    "        clusterCount[cluster], withinClusterSS[cluster]))"
   ]
  },
  {
   "cell_type": "code",
   "execution_count": 195,
   "metadata": {},
   "outputs": [
    {
     "data": {
      "text/html": [
       "<div>\n",
       "<style scoped>\n",
       "    .dataframe tbody tr th:only-of-type {\n",
       "        vertical-align: middle;\n",
       "    }\n",
       "\n",
       "    .dataframe tbody tr th {\n",
       "        vertical-align: top;\n",
       "    }\n",
       "\n",
       "    .dataframe thead th {\n",
       "        text-align: right;\n",
       "    }\n",
       "</style>\n",
       "<table border=\"1\" class=\"dataframe\">\n",
       "  <thead>\n",
       "    <tr style=\"text-align: right;\">\n",
       "      <th></th>\n",
       "      <th>mfr</th>\n",
       "      <th>type</th>\n",
       "      <th>calories</th>\n",
       "      <th>protein</th>\n",
       "      <th>fat</th>\n",
       "      <th>sodium</th>\n",
       "      <th>fiber</th>\n",
       "      <th>carbo</th>\n",
       "      <th>sugars</th>\n",
       "      <th>potass</th>\n",
       "      <th>vitamins</th>\n",
       "      <th>shelf</th>\n",
       "      <th>weight</th>\n",
       "      <th>cups</th>\n",
       "      <th>rating</th>\n",
       "      <th>cluster</th>\n",
       "    </tr>\n",
       "  </thead>\n",
       "  <tbody>\n",
       "    <tr>\n",
       "      <th>0</th>\n",
       "      <td>0.123512</td>\n",
       "      <td>-0.117041</td>\n",
       "      <td>1.274310</td>\n",
       "      <td>0.588993</td>\n",
       "      <td>1.000000</td>\n",
       "      <td>0.040743</td>\n",
       "      <td>0.535368</td>\n",
       "      <td>-0.013235</td>\n",
       "      <td>0.766929</td>\n",
       "      <td>0.995167</td>\n",
       "      <td>0.220136</td>\n",
       "      <td>0.861971</td>\n",
       "      <td>1.415043</td>\n",
       "      <td>-0.275412</td>\n",
       "      <td>-0.435094</td>\n",
       "      <td>Cluster 0</td>\n",
       "    </tr>\n",
       "    <tr>\n",
       "      <th>1</th>\n",
       "      <td>0.250454</td>\n",
       "      <td>0.192282</td>\n",
       "      <td>-0.791424</td>\n",
       "      <td>0.588993</td>\n",
       "      <td>-0.285714</td>\n",
       "      <td>-0.491440</td>\n",
       "      <td>0.498273</td>\n",
       "      <td>-0.119492</td>\n",
       "      <td>-0.800371</td>\n",
       "      <td>0.350872</td>\n",
       "      <td>-0.263727</td>\n",
       "      <td>0.084095</td>\n",
       "      <td>-0.476432</td>\n",
       "      <td>-0.391349</td>\n",
       "      <td>0.991172</td>\n",
       "      <td>Cluster 1</td>\n",
       "    </tr>\n",
       "    <tr>\n",
       "      <th>2</th>\n",
       "      <td>-0.273184</td>\n",
       "      <td>-0.117041</td>\n",
       "      <td>0.134985</td>\n",
       "      <td>-0.773053</td>\n",
       "      <td>-0.187500</td>\n",
       "      <td>0.412185</td>\n",
       "      <td>-0.670213</td>\n",
       "      <td>0.110346</td>\n",
       "      <td>0.364793</td>\n",
       "      <td>-0.742399</td>\n",
       "      <td>0.134452</td>\n",
       "      <td>-0.450695</td>\n",
       "      <td>-0.202203</td>\n",
       "      <td>0.462924</td>\n",
       "      <td>-0.676922</td>\n",
       "      <td>Cluster 2</td>\n",
       "    </tr>\n",
       "  </tbody>\n",
       "</table>\n",
       "</div>"
      ],
      "text/plain": [
       "        mfr      type  calories   protein       fat    sodium     fiber  \\\n",
       "0  0.123512 -0.117041  1.274310  0.588993  1.000000  0.040743  0.535368   \n",
       "1  0.250454  0.192282 -0.791424  0.588993 -0.285714 -0.491440  0.498273   \n",
       "2 -0.273184 -0.117041  0.134985 -0.773053 -0.187500  0.412185 -0.670213   \n",
       "\n",
       "      carbo    sugars    potass  vitamins     shelf    weight      cups  \\\n",
       "0 -0.013235  0.766929  0.995167  0.220136  0.861971  1.415043 -0.275412   \n",
       "1 -0.119492 -0.800371  0.350872 -0.263727  0.084095 -0.476432 -0.391349   \n",
       "2  0.110346  0.364793 -0.742399  0.134452 -0.450695 -0.202203  0.462924   \n",
       "\n",
       "     rating    cluster  \n",
       "0 -0.435094  Cluster 0  \n",
       "1  0.991172  Cluster 1  \n",
       "2 -0.676922  Cluster 2  "
      ]
     },
     "execution_count": 195,
     "metadata": {},
     "output_type": "execute_result"
    },
    {
     "data": {
      "image/png": "[encoded data removed]",
      "text/plain": [
       "<Figure size 720x432 with 1 Axes>"
      ]
     },
     "metadata": {
      "needs_background": "light"
     },
     "output_type": "display_data"
    }
   ],
   "source": [
    "#Setup data for graph of items included in clusters.\n",
    "centroids['cluster'] = ['Cluster {}'.format(i) for i in centroids.index]\n",
    "\n",
    "plt.figure(figsize=(10,6))\n",
    "fig.subplots_adjust(right=3)\n",
    "ax = parallel_coordinates(centroids, class_column='cluster', colormap='Dark2', linewidth=5)\n",
    "plt.legend(loc='center left', bbox_to_anchor=(0.95, 0.5))\n",
    "plt.xlim(-0.5,7.5)\n",
    "centroids"
   ]
  },
  {
   "cell_type": "code",
   "execution_count": 196,
   "metadata": {},
   "outputs": [
    {
     "name": "stdout",
     "output_type": "stream",
     "text": [
      "          0         1         2\n",
      "0  0.000000  3.957791  3.802343\n",
      "1  3.957791  0.000000  3.451459\n",
      "2  3.802343  3.451459  0.000000\n"
     ]
    }
   ],
   "source": [
    "print(pd.DataFrame(pairwise.pairwise_distances(kmeans.cluster_centers_, metric='euclidean')))"
   ]
  },
  {
   "cell_type": "code",
   "execution_count": 197,
   "metadata": {},
   "outputs": [
    {
     "data": {
      "text/plain": [
       "0    7.760134\n",
       "1    7.409250\n",
       "2    7.253801\n",
       "dtype: float64"
      ]
     },
     "execution_count": 197,
     "metadata": {},
     "output_type": "execute_result"
    }
   ],
   "source": [
    "pd.DataFrame(pairwise.pairwise_distances(kmeans.cluster_centers_, metric='euclidean')).sum(axis=0)"
   ]
  },
  {
   "cell_type": "markdown",
   "metadata": {},
   "source": [
    "\n",
    "# Comment on the structures of the clusters and their stability\n",
    "\n",
    "> Judging by the differences in the groups when different cluster techniques are applied, it does appear that the clusters are not \n",
    "> completely stable.  However it does appear that multiple methods of evaluating the clusters show that 2-3 clusters would be the \n",
    "> best fit for this data.\n"
   ]
  },
  {
   "cell_type": "code",
   "execution_count": 198,
   "metadata": {},
   "outputs": [
    {
     "data": {
      "image/png": "[encoded data removed]",
      "text/plain": [
       "<Figure size 432x288 with 1 Axes>"
      ]
     },
     "metadata": {
      "needs_background": "light"
     },
     "output_type": "display_data"
    }
   ],
   "source": [
    "#Plot showing curve of k values.  This is to show the elbow of the graph for chosing the optimum value for K.\n",
    "inertia = []\n",
    "for n_clusters in range(1, 7):\n",
    "    kmeans = KMeans(n_clusters=n_clusters, random_state=0).fit(df_norm)\n",
    "    inertia.append(kmeans.inertia_ / n_clusters)\n",
    "inertias = pd.DataFrame({'n_clusters': range(1, 7), 'inertia': inertia})\n",
    "ax = inertias.plot(x='n_clusters', y='inertia')\n",
    "plt.xlabel('Number of clusters(k)')\n",
    "plt.ylabel('Average Within-Cluster Squared Distances')\n",
    "plt.ylim((0, 1.1 * inertias.inertia.max()))\n",
    "ax.legend().set_visible(False)\n",
    "plt.show()"
   ]
  },
  {
   "cell_type": "markdown",
   "metadata": {},
   "source": [
    "# Should you normalize data for a different \"Healthy\" cereal each day of the week? How would you cluster this?\n",
    "\n",
    "> Looking at the nutrition values of the Cereal data, it does appear that it would be important to normalize the data.  The values have a \n",
    "> fairly broad range, so allowing the varibales to be on a similar scale would be helpful.\n",
    "> The best way to select these cereals may not be a hierarchical cluster. This problem seems to be better suited for an \n",
    "> optimization matrix.  This would easily allow you to set the paramaters for what was healthy and then select the top 7.. or 14 if\n",
    "> you would want a repeating 2 week cycle.\n",
    "\n",
    "\n"
   ]
  },
  {
   "cell_type": "markdown",
   "metadata": {},
   "source": [
    ">A source of information on HBDSCAN used in this demonstration: https://www.youtube.com/watch?v=dGsxd67IFiU \"HDBSCAN Fast Density\n",
    "> Based Clustering,the How and Why\" "
   ]
  }
 ],
 "metadata": {
  "kernelspec": {
   "display_name": "Python 3",
   "language": "python",
   "name": "python3"
  },
  "language_info": {
   "codemirror_mode": {
    "name": "ipython",
    "version": 3
   },
   "file_extension": ".py",
   "mimetype": "text/x-python",
   "name": "python",
   "nbconvert_exporter": "python",
   "pygments_lexer": "ipython3",
   "version": "3.7.6"
  }
 },
 "nbformat": 4,
 "nbformat_minor": 4
}
